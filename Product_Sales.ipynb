{
 "cells": [
  {
   "cell_type": "code",
   "execution_count": 1,
   "id": "80a5293a-b60c-4414-b9ad-5c0d0ced7d7a",
   "metadata": {},
   "outputs": [],
   "source": [
    "# import libraries\n",
    "\n",
    "import pandas as pd\n",
    "import numpy as np\n",
    "import matplotlib.pyplot as plt\n",
    "import seaborn as sns\n",
    "# pd.set_option('max_columns', 200)\n",
    "%matplotlib inline\n",
    "\n",
    "\n",
    "from sklearn.preprocessing import StandardScaler,LabelEncoder\n",
    "from sklearn.model_selection import train_test_split\n",
    "import xgboost as xgb\n",
    "from sklearn.metrics import mean_squared_error\n",
    "from sklearn.linear_model import LogisticRegression\n",
    "from sklearn.pipeline import make_pipeline"
   ]
  },
  {
   "cell_type": "code",
   "execution_count": 2,
   "id": "202fa5cc-3ed6-4ec3-9822-647f3b5e7374",
   "metadata": {},
   "outputs": [],
   "source": [
    "# import data\n",
    "data_week = pd.read_csv('date_to_week_id_map.csv')\n",
    "product = pd.read_csv('product_prices.csv')"
   ]
  },
  {
   "cell_type": "code",
   "execution_count": 3,
   "id": "3a3ecaa7-0da6-482a-8ab4-ba610d390593",
   "metadata": {},
   "outputs": [
    {
     "data": {
      "text/html": [
       "<div>\n",
       "<style scoped>\n",
       "    .dataframe tbody tr th:only-of-type {\n",
       "        vertical-align: middle;\n",
       "    }\n",
       "\n",
       "    .dataframe tbody tr th {\n",
       "        vertical-align: top;\n",
       "    }\n",
       "\n",
       "    .dataframe thead th {\n",
       "        text-align: right;\n",
       "    }\n",
       "</style>\n",
       "<table border=\"1\" class=\"dataframe\">\n",
       "  <thead>\n",
       "    <tr style=\"text-align: right;\">\n",
       "      <th></th>\n",
       "      <th>date</th>\n",
       "      <th>week_id</th>\n",
       "    </tr>\n",
       "  </thead>\n",
       "  <tbody>\n",
       "    <tr>\n",
       "      <th>0</th>\n",
       "      <td>2012-01-01</td>\n",
       "      <td>49</td>\n",
       "    </tr>\n",
       "    <tr>\n",
       "      <th>1</th>\n",
       "      <td>2012-01-02</td>\n",
       "      <td>49</td>\n",
       "    </tr>\n",
       "    <tr>\n",
       "      <th>2</th>\n",
       "      <td>2012-01-03</td>\n",
       "      <td>49</td>\n",
       "    </tr>\n",
       "    <tr>\n",
       "      <th>3</th>\n",
       "      <td>2012-01-04</td>\n",
       "      <td>49</td>\n",
       "    </tr>\n",
       "    <tr>\n",
       "      <th>4</th>\n",
       "      <td>2012-01-05</td>\n",
       "      <td>49</td>\n",
       "    </tr>\n",
       "  </tbody>\n",
       "</table>\n",
       "</div>"
      ],
      "text/plain": [
       "         date  week_id\n",
       "0  2012-01-01       49\n",
       "1  2012-01-02       49\n",
       "2  2012-01-03       49\n",
       "3  2012-01-04       49\n",
       "4  2012-01-05       49"
      ]
     },
     "execution_count": 3,
     "metadata": {},
     "output_type": "execute_result"
    }
   ],
   "source": [
    "data_week.head()"
   ]
  },
  {
   "cell_type": "code",
   "execution_count": 4,
   "id": "1e86af70-4cea-4698-8100-6c7214d58c54",
   "metadata": {},
   "outputs": [
    {
     "data": {
      "text/html": [
       "<div>\n",
       "<style scoped>\n",
       "    .dataframe tbody tr th:only-of-type {\n",
       "        vertical-align: middle;\n",
       "    }\n",
       "\n",
       "    .dataframe tbody tr th {\n",
       "        vertical-align: top;\n",
       "    }\n",
       "\n",
       "    .dataframe thead th {\n",
       "        text-align: right;\n",
       "    }\n",
       "</style>\n",
       "<table border=\"1\" class=\"dataframe\">\n",
       "  <thead>\n",
       "    <tr style=\"text-align: right;\">\n",
       "      <th></th>\n",
       "      <th>outlet</th>\n",
       "      <th>product_identifier</th>\n",
       "      <th>week_id</th>\n",
       "      <th>sell_price</th>\n",
       "    </tr>\n",
       "  </thead>\n",
       "  <tbody>\n",
       "    <tr>\n",
       "      <th>0</th>\n",
       "      <td>111</td>\n",
       "      <td>74</td>\n",
       "      <td>49</td>\n",
       "      <td>2.94</td>\n",
       "    </tr>\n",
       "    <tr>\n",
       "      <th>1</th>\n",
       "      <td>111</td>\n",
       "      <td>74</td>\n",
       "      <td>50</td>\n",
       "      <td>2.94</td>\n",
       "    </tr>\n",
       "    <tr>\n",
       "      <th>2</th>\n",
       "      <td>111</td>\n",
       "      <td>74</td>\n",
       "      <td>51</td>\n",
       "      <td>2.94</td>\n",
       "    </tr>\n",
       "    <tr>\n",
       "      <th>3</th>\n",
       "      <td>111</td>\n",
       "      <td>74</td>\n",
       "      <td>52</td>\n",
       "      <td>2.94</td>\n",
       "    </tr>\n",
       "    <tr>\n",
       "      <th>4</th>\n",
       "      <td>111</td>\n",
       "      <td>74</td>\n",
       "      <td>53</td>\n",
       "      <td>2.94</td>\n",
       "    </tr>\n",
       "  </tbody>\n",
       "</table>\n",
       "</div>"
      ],
      "text/plain": [
       "   outlet  product_identifier  week_id  sell_price\n",
       "0     111                  74       49        2.94\n",
       "1     111                  74       50        2.94\n",
       "2     111                  74       51        2.94\n",
       "3     111                  74       52        2.94\n",
       "4     111                  74       53        2.94"
      ]
     },
     "execution_count": 4,
     "metadata": {},
     "output_type": "execute_result"
    }
   ],
   "source": [
    "product.head()"
   ]
  },
  {
   "cell_type": "code",
   "execution_count": 5,
   "id": "b0a2f797-742c-4288-87ea-57505902ad58",
   "metadata": {},
   "outputs": [
    {
     "data": {
      "text/html": [
       "<div>\n",
       "<style scoped>\n",
       "    .dataframe tbody tr th:only-of-type {\n",
       "        vertical-align: middle;\n",
       "    }\n",
       "\n",
       "    .dataframe tbody tr th {\n",
       "        vertical-align: top;\n",
       "    }\n",
       "\n",
       "    .dataframe thead th {\n",
       "        text-align: right;\n",
       "    }\n",
       "</style>\n",
       "<table border=\"1\" class=\"dataframe\">\n",
       "  <thead>\n",
       "    <tr style=\"text-align: right;\">\n",
       "      <th></th>\n",
       "      <th>outlet</th>\n",
       "      <th>product_identifier</th>\n",
       "      <th>week_id</th>\n",
       "      <th>sell_price</th>\n",
       "      <th>date</th>\n",
       "    </tr>\n",
       "  </thead>\n",
       "  <tbody>\n",
       "    <tr>\n",
       "      <th>0</th>\n",
       "      <td>111</td>\n",
       "      <td>74</td>\n",
       "      <td>49</td>\n",
       "      <td>2.94</td>\n",
       "      <td>2012-01-01</td>\n",
       "    </tr>\n",
       "    <tr>\n",
       "      <th>1</th>\n",
       "      <td>111</td>\n",
       "      <td>74</td>\n",
       "      <td>49</td>\n",
       "      <td>2.94</td>\n",
       "      <td>2012-01-02</td>\n",
       "    </tr>\n",
       "    <tr>\n",
       "      <th>2</th>\n",
       "      <td>111</td>\n",
       "      <td>74</td>\n",
       "      <td>49</td>\n",
       "      <td>2.94</td>\n",
       "      <td>2012-01-03</td>\n",
       "    </tr>\n",
       "    <tr>\n",
       "      <th>3</th>\n",
       "      <td>111</td>\n",
       "      <td>74</td>\n",
       "      <td>49</td>\n",
       "      <td>2.94</td>\n",
       "      <td>2012-01-04</td>\n",
       "    </tr>\n",
       "    <tr>\n",
       "      <th>4</th>\n",
       "      <td>111</td>\n",
       "      <td>74</td>\n",
       "      <td>49</td>\n",
       "      <td>2.94</td>\n",
       "      <td>2012-01-05</td>\n",
       "    </tr>\n",
       "  </tbody>\n",
       "</table>\n",
       "</div>"
      ],
      "text/plain": [
       "   outlet  product_identifier  week_id  sell_price        date\n",
       "0     111                  74       49        2.94  2012-01-01\n",
       "1     111                  74       49        2.94  2012-01-02\n",
       "2     111                  74       49        2.94  2012-01-03\n",
       "3     111                  74       49        2.94  2012-01-04\n",
       "4     111                  74       49        2.94  2012-01-05"
      ]
     },
     "execution_count": 5,
     "metadata": {},
     "output_type": "execute_result"
    }
   ],
   "source": [
    "# merge both data\n",
    "merged_data = pd.merge(product,data_week, on=['week_id'], how='inner')\n",
    "merged_data.head()"
   ]
  },
  {
   "cell_type": "code",
   "execution_count": 6,
   "id": "f9eb3ba7-c3ea-4c88-96c5-dba48e07ca7f",
   "metadata": {},
   "outputs": [],
   "source": [
    "# import train and test data\n",
    "train_df = pd.read_csv('train_data.csv')\n",
    "test_df = pd.read_csv('test_data.csv')\n",
    "sample_submission = pd.read_csv('sample_submission.csv')"
   ]
  },
  {
   "cell_type": "code",
   "execution_count": 7,
   "id": "9874167b-0a35-4863-a6bc-3737cf28f821",
   "metadata": {},
   "outputs": [
    {
     "data": {
      "text/html": [
       "<div>\n",
       "<style scoped>\n",
       "    .dataframe tbody tr th:only-of-type {\n",
       "        vertical-align: middle;\n",
       "    }\n",
       "\n",
       "    .dataframe tbody tr th {\n",
       "        vertical-align: top;\n",
       "    }\n",
       "\n",
       "    .dataframe thead th {\n",
       "        text-align: right;\n",
       "    }\n",
       "</style>\n",
       "<table border=\"1\" class=\"dataframe\">\n",
       "  <thead>\n",
       "    <tr style=\"text-align: right;\">\n",
       "      <th></th>\n",
       "      <th>date</th>\n",
       "      <th>product_identifier</th>\n",
       "      <th>department_identifier</th>\n",
       "      <th>category_of_product</th>\n",
       "      <th>outlet</th>\n",
       "      <th>state</th>\n",
       "      <th>sales</th>\n",
       "    </tr>\n",
       "  </thead>\n",
       "  <tbody>\n",
       "    <tr>\n",
       "      <th>0</th>\n",
       "      <td>2012-01-01</td>\n",
       "      <td>74</td>\n",
       "      <td>11</td>\n",
       "      <td>others</td>\n",
       "      <td>111</td>\n",
       "      <td>Maharashtra</td>\n",
       "      <td>0</td>\n",
       "    </tr>\n",
       "    <tr>\n",
       "      <th>1</th>\n",
       "      <td>2012-01-01</td>\n",
       "      <td>337</td>\n",
       "      <td>11</td>\n",
       "      <td>others</td>\n",
       "      <td>111</td>\n",
       "      <td>Maharashtra</td>\n",
       "      <td>1</td>\n",
       "    </tr>\n",
       "    <tr>\n",
       "      <th>2</th>\n",
       "      <td>2012-01-01</td>\n",
       "      <td>423</td>\n",
       "      <td>12</td>\n",
       "      <td>others</td>\n",
       "      <td>111</td>\n",
       "      <td>Maharashtra</td>\n",
       "      <td>0</td>\n",
       "    </tr>\n",
       "    <tr>\n",
       "      <th>3</th>\n",
       "      <td>2012-01-01</td>\n",
       "      <td>432</td>\n",
       "      <td>12</td>\n",
       "      <td>others</td>\n",
       "      <td>111</td>\n",
       "      <td>Maharashtra</td>\n",
       "      <td>0</td>\n",
       "    </tr>\n",
       "    <tr>\n",
       "      <th>4</th>\n",
       "      <td>2012-01-01</td>\n",
       "      <td>581</td>\n",
       "      <td>21</td>\n",
       "      <td>fast_moving_consumer_goods</td>\n",
       "      <td>111</td>\n",
       "      <td>Maharashtra</td>\n",
       "      <td>0</td>\n",
       "    </tr>\n",
       "  </tbody>\n",
       "</table>\n",
       "</div>"
      ],
      "text/plain": [
       "         date  product_identifier  department_identifier  \\\n",
       "0  2012-01-01                  74                     11   \n",
       "1  2012-01-01                 337                     11   \n",
       "2  2012-01-01                 423                     12   \n",
       "3  2012-01-01                 432                     12   \n",
       "4  2012-01-01                 581                     21   \n",
       "\n",
       "          category_of_product  outlet        state  sales  \n",
       "0                      others     111  Maharashtra      0  \n",
       "1                      others     111  Maharashtra      1  \n",
       "2                      others     111  Maharashtra      0  \n",
       "3                      others     111  Maharashtra      0  \n",
       "4  fast_moving_consumer_goods     111  Maharashtra      0  "
      ]
     },
     "execution_count": 7,
     "metadata": {},
     "output_type": "execute_result"
    }
   ],
   "source": [
    "train_df.head()"
   ]
  },
  {
   "cell_type": "code",
   "execution_count": 8,
   "id": "c6888cc9-4da1-4602-8a16-2700742e7b36",
   "metadata": {},
   "outputs": [
    {
     "data": {
      "text/html": [
       "<div>\n",
       "<style scoped>\n",
       "    .dataframe tbody tr th:only-of-type {\n",
       "        vertical-align: middle;\n",
       "    }\n",
       "\n",
       "    .dataframe tbody tr th {\n",
       "        vertical-align: top;\n",
       "    }\n",
       "\n",
       "    .dataframe thead th {\n",
       "        text-align: right;\n",
       "    }\n",
       "</style>\n",
       "<table border=\"1\" class=\"dataframe\">\n",
       "  <thead>\n",
       "    <tr style=\"text-align: right;\">\n",
       "      <th></th>\n",
       "      <th>id</th>\n",
       "      <th>date</th>\n",
       "      <th>product_identifier</th>\n",
       "      <th>department_identifier</th>\n",
       "      <th>category_of_product</th>\n",
       "      <th>outlet</th>\n",
       "      <th>state</th>\n",
       "    </tr>\n",
       "  </thead>\n",
       "  <tbody>\n",
       "    <tr>\n",
       "      <th>0</th>\n",
       "      <td>1</td>\n",
       "      <td>2014-03-01</td>\n",
       "      <td>74</td>\n",
       "      <td>11</td>\n",
       "      <td>others</td>\n",
       "      <td>111</td>\n",
       "      <td>Maharashtra</td>\n",
       "    </tr>\n",
       "    <tr>\n",
       "      <th>1</th>\n",
       "      <td>2</td>\n",
       "      <td>2014-03-01</td>\n",
       "      <td>337</td>\n",
       "      <td>11</td>\n",
       "      <td>others</td>\n",
       "      <td>111</td>\n",
       "      <td>Maharashtra</td>\n",
       "    </tr>\n",
       "    <tr>\n",
       "      <th>2</th>\n",
       "      <td>3</td>\n",
       "      <td>2014-03-01</td>\n",
       "      <td>423</td>\n",
       "      <td>12</td>\n",
       "      <td>others</td>\n",
       "      <td>111</td>\n",
       "      <td>Maharashtra</td>\n",
       "    </tr>\n",
       "    <tr>\n",
       "      <th>3</th>\n",
       "      <td>4</td>\n",
       "      <td>2014-03-01</td>\n",
       "      <td>432</td>\n",
       "      <td>12</td>\n",
       "      <td>others</td>\n",
       "      <td>111</td>\n",
       "      <td>Maharashtra</td>\n",
       "    </tr>\n",
       "    <tr>\n",
       "      <th>4</th>\n",
       "      <td>5</td>\n",
       "      <td>2014-03-01</td>\n",
       "      <td>581</td>\n",
       "      <td>21</td>\n",
       "      <td>fast_moving_consumer_goods</td>\n",
       "      <td>111</td>\n",
       "      <td>Maharashtra</td>\n",
       "    </tr>\n",
       "  </tbody>\n",
       "</table>\n",
       "</div>"
      ],
      "text/plain": [
       "   id        date  product_identifier  department_identifier  \\\n",
       "0   1  2014-03-01                  74                     11   \n",
       "1   2  2014-03-01                 337                     11   \n",
       "2   3  2014-03-01                 423                     12   \n",
       "3   4  2014-03-01                 432                     12   \n",
       "4   5  2014-03-01                 581                     21   \n",
       "\n",
       "          category_of_product  outlet        state  \n",
       "0                      others     111  Maharashtra  \n",
       "1                      others     111  Maharashtra  \n",
       "2                      others     111  Maharashtra  \n",
       "3                      others     111  Maharashtra  \n",
       "4  fast_moving_consumer_goods     111  Maharashtra  "
      ]
     },
     "execution_count": 8,
     "metadata": {},
     "output_type": "execute_result"
    }
   ],
   "source": [
    "test_df.head()"
   ]
  },
  {
   "cell_type": "code",
   "execution_count": 9,
   "id": "493b5dd2-13ac-4cb0-9d2f-551198aae01f",
   "metadata": {},
   "outputs": [
    {
     "data": {
      "text/html": [
       "<div>\n",
       "<style scoped>\n",
       "    .dataframe tbody tr th:only-of-type {\n",
       "        vertical-align: middle;\n",
       "    }\n",
       "\n",
       "    .dataframe tbody tr th {\n",
       "        vertical-align: top;\n",
       "    }\n",
       "\n",
       "    .dataframe thead th {\n",
       "        text-align: right;\n",
       "    }\n",
       "</style>\n",
       "<table border=\"1\" class=\"dataframe\">\n",
       "  <thead>\n",
       "    <tr style=\"text-align: right;\">\n",
       "      <th></th>\n",
       "      <th>id</th>\n",
       "      <th>sales</th>\n",
       "    </tr>\n",
       "  </thead>\n",
       "  <tbody>\n",
       "    <tr>\n",
       "      <th>0</th>\n",
       "      <td>1</td>\n",
       "      <td>0</td>\n",
       "    </tr>\n",
       "    <tr>\n",
       "      <th>1</th>\n",
       "      <td>2</td>\n",
       "      <td>0</td>\n",
       "    </tr>\n",
       "    <tr>\n",
       "      <th>2</th>\n",
       "      <td>3</td>\n",
       "      <td>0</td>\n",
       "    </tr>\n",
       "    <tr>\n",
       "      <th>3</th>\n",
       "      <td>4</td>\n",
       "      <td>0</td>\n",
       "    </tr>\n",
       "    <tr>\n",
       "      <th>4</th>\n",
       "      <td>5</td>\n",
       "      <td>0</td>\n",
       "    </tr>\n",
       "  </tbody>\n",
       "</table>\n",
       "</div>"
      ],
      "text/plain": [
       "   id  sales\n",
       "0   1      0\n",
       "1   2      0\n",
       "2   3      0\n",
       "3   4      0\n",
       "4   5      0"
      ]
     },
     "execution_count": 9,
     "metadata": {},
     "output_type": "execute_result"
    }
   ],
   "source": [
    "sample_submission.head()"
   ]
  },
  {
   "cell_type": "code",
   "execution_count": 10,
   "id": "f6c018b4-0c62-4f30-936f-240639f9a813",
   "metadata": {},
   "outputs": [],
   "source": [
    "# we will be merging the merged_date to train_df\n",
    "train_df = pd.merge(train_df,merged_data, on=['date','product_identifier','outlet'], how='inner')"
   ]
  },
  {
   "cell_type": "code",
   "execution_count": 11,
   "id": "0c4414ee-5583-4bbd-945f-ebec7d4878ee",
   "metadata": {},
   "outputs": [
    {
     "data": {
      "text/html": [
       "<div>\n",
       "<style scoped>\n",
       "    .dataframe tbody tr th:only-of-type {\n",
       "        vertical-align: middle;\n",
       "    }\n",
       "\n",
       "    .dataframe tbody tr th {\n",
       "        vertical-align: top;\n",
       "    }\n",
       "\n",
       "    .dataframe thead th {\n",
       "        text-align: right;\n",
       "    }\n",
       "</style>\n",
       "<table border=\"1\" class=\"dataframe\">\n",
       "  <thead>\n",
       "    <tr style=\"text-align: right;\">\n",
       "      <th></th>\n",
       "      <th>date</th>\n",
       "      <th>product_identifier</th>\n",
       "      <th>department_identifier</th>\n",
       "      <th>category_of_product</th>\n",
       "      <th>outlet</th>\n",
       "      <th>state</th>\n",
       "      <th>sales</th>\n",
       "      <th>week_id</th>\n",
       "      <th>sell_price</th>\n",
       "    </tr>\n",
       "  </thead>\n",
       "  <tbody>\n",
       "    <tr>\n",
       "      <th>0</th>\n",
       "      <td>2012-01-01</td>\n",
       "      <td>74</td>\n",
       "      <td>11</td>\n",
       "      <td>others</td>\n",
       "      <td>111</td>\n",
       "      <td>Maharashtra</td>\n",
       "      <td>0</td>\n",
       "      <td>49</td>\n",
       "      <td>2.94</td>\n",
       "    </tr>\n",
       "    <tr>\n",
       "      <th>1</th>\n",
       "      <td>2012-01-01</td>\n",
       "      <td>337</td>\n",
       "      <td>11</td>\n",
       "      <td>others</td>\n",
       "      <td>111</td>\n",
       "      <td>Maharashtra</td>\n",
       "      <td>1</td>\n",
       "      <td>49</td>\n",
       "      <td>7.44</td>\n",
       "    </tr>\n",
       "    <tr>\n",
       "      <th>2</th>\n",
       "      <td>2012-01-01</td>\n",
       "      <td>423</td>\n",
       "      <td>12</td>\n",
       "      <td>others</td>\n",
       "      <td>111</td>\n",
       "      <td>Maharashtra</td>\n",
       "      <td>0</td>\n",
       "      <td>49</td>\n",
       "      <td>0.97</td>\n",
       "    </tr>\n",
       "    <tr>\n",
       "      <th>3</th>\n",
       "      <td>2012-01-01</td>\n",
       "      <td>432</td>\n",
       "      <td>12</td>\n",
       "      <td>others</td>\n",
       "      <td>111</td>\n",
       "      <td>Maharashtra</td>\n",
       "      <td>0</td>\n",
       "      <td>49</td>\n",
       "      <td>4.97</td>\n",
       "    </tr>\n",
       "    <tr>\n",
       "      <th>4</th>\n",
       "      <td>2012-01-01</td>\n",
       "      <td>581</td>\n",
       "      <td>21</td>\n",
       "      <td>fast_moving_consumer_goods</td>\n",
       "      <td>111</td>\n",
       "      <td>Maharashtra</td>\n",
       "      <td>0</td>\n",
       "      <td>49</td>\n",
       "      <td>4.88</td>\n",
       "    </tr>\n",
       "  </tbody>\n",
       "</table>\n",
       "</div>"
      ],
      "text/plain": [
       "         date  product_identifier  department_identifier  \\\n",
       "0  2012-01-01                  74                     11   \n",
       "1  2012-01-01                 337                     11   \n",
       "2  2012-01-01                 423                     12   \n",
       "3  2012-01-01                 432                     12   \n",
       "4  2012-01-01                 581                     21   \n",
       "\n",
       "          category_of_product  outlet        state  sales  week_id  sell_price  \n",
       "0                      others     111  Maharashtra      0       49        2.94  \n",
       "1                      others     111  Maharashtra      1       49        7.44  \n",
       "2                      others     111  Maharashtra      0       49        0.97  \n",
       "3                      others     111  Maharashtra      0       49        4.97  \n",
       "4  fast_moving_consumer_goods     111  Maharashtra      0       49        4.88  "
      ]
     },
     "execution_count": 11,
     "metadata": {},
     "output_type": "execute_result"
    }
   ],
   "source": [
    "train_df.head()"
   ]
  },
  {
   "cell_type": "code",
   "execution_count": 12,
   "id": "2153b71c-238b-4488-a171-a6a73d69137f",
   "metadata": {},
   "outputs": [],
   "source": [
    "# # we will be merging the merged_date to test_df\n",
    "test_df = pd.merge(test_df,merged_data, on=['date','product_identifier','outlet'], how='inner')"
   ]
  },
  {
   "cell_type": "code",
   "execution_count": 13,
   "id": "0bdc8628-4d6d-4ecc-9223-d0ca76a22535",
   "metadata": {},
   "outputs": [
    {
     "data": {
      "text/html": [
       "<div>\n",
       "<style scoped>\n",
       "    .dataframe tbody tr th:only-of-type {\n",
       "        vertical-align: middle;\n",
       "    }\n",
       "\n",
       "    .dataframe tbody tr th {\n",
       "        vertical-align: top;\n",
       "    }\n",
       "\n",
       "    .dataframe thead th {\n",
       "        text-align: right;\n",
       "    }\n",
       "</style>\n",
       "<table border=\"1\" class=\"dataframe\">\n",
       "  <thead>\n",
       "    <tr style=\"text-align: right;\">\n",
       "      <th></th>\n",
       "      <th>id</th>\n",
       "      <th>date</th>\n",
       "      <th>product_identifier</th>\n",
       "      <th>department_identifier</th>\n",
       "      <th>category_of_product</th>\n",
       "      <th>outlet</th>\n",
       "      <th>state</th>\n",
       "      <th>week_id</th>\n",
       "      <th>sell_price</th>\n",
       "    </tr>\n",
       "  </thead>\n",
       "  <tbody>\n",
       "    <tr>\n",
       "      <th>0</th>\n",
       "      <td>1</td>\n",
       "      <td>2014-03-01</td>\n",
       "      <td>74</td>\n",
       "      <td>11</td>\n",
       "      <td>others</td>\n",
       "      <td>111</td>\n",
       "      <td>Maharashtra</td>\n",
       "      <td>162</td>\n",
       "      <td>3.43</td>\n",
       "    </tr>\n",
       "    <tr>\n",
       "      <th>1</th>\n",
       "      <td>2</td>\n",
       "      <td>2014-03-01</td>\n",
       "      <td>337</td>\n",
       "      <td>11</td>\n",
       "      <td>others</td>\n",
       "      <td>111</td>\n",
       "      <td>Maharashtra</td>\n",
       "      <td>162</td>\n",
       "      <td>7.78</td>\n",
       "    </tr>\n",
       "    <tr>\n",
       "      <th>2</th>\n",
       "      <td>3</td>\n",
       "      <td>2014-03-01</td>\n",
       "      <td>423</td>\n",
       "      <td>12</td>\n",
       "      <td>others</td>\n",
       "      <td>111</td>\n",
       "      <td>Maharashtra</td>\n",
       "      <td>162</td>\n",
       "      <td>0.97</td>\n",
       "    </tr>\n",
       "    <tr>\n",
       "      <th>3</th>\n",
       "      <td>4</td>\n",
       "      <td>2014-03-01</td>\n",
       "      <td>432</td>\n",
       "      <td>12</td>\n",
       "      <td>others</td>\n",
       "      <td>111</td>\n",
       "      <td>Maharashtra</td>\n",
       "      <td>162</td>\n",
       "      <td>4.97</td>\n",
       "    </tr>\n",
       "    <tr>\n",
       "      <th>4</th>\n",
       "      <td>5</td>\n",
       "      <td>2014-03-01</td>\n",
       "      <td>581</td>\n",
       "      <td>21</td>\n",
       "      <td>fast_moving_consumer_goods</td>\n",
       "      <td>111</td>\n",
       "      <td>Maharashtra</td>\n",
       "      <td>162</td>\n",
       "      <td>4.88</td>\n",
       "    </tr>\n",
       "  </tbody>\n",
       "</table>\n",
       "</div>"
      ],
      "text/plain": [
       "   id        date  product_identifier  department_identifier  \\\n",
       "0   1  2014-03-01                  74                     11   \n",
       "1   2  2014-03-01                 337                     11   \n",
       "2   3  2014-03-01                 423                     12   \n",
       "3   4  2014-03-01                 432                     12   \n",
       "4   5  2014-03-01                 581                     21   \n",
       "\n",
       "          category_of_product  outlet        state  week_id  sell_price  \n",
       "0                      others     111  Maharashtra      162        3.43  \n",
       "1                      others     111  Maharashtra      162        7.78  \n",
       "2                      others     111  Maharashtra      162        0.97  \n",
       "3                      others     111  Maharashtra      162        4.97  \n",
       "4  fast_moving_consumer_goods     111  Maharashtra      162        4.88  "
      ]
     },
     "execution_count": 13,
     "metadata": {},
     "output_type": "execute_result"
    }
   ],
   "source": [
    "test_df.head()"
   ]
  },
  {
   "cell_type": "code",
   "execution_count": 14,
   "id": "6f624bc2-305f-4e41-996c-725826cbf975",
   "metadata": {},
   "outputs": [
    {
     "name": "stdout",
     "output_type": "stream",
     "text": [
      "(395000, 9)\n",
      "(15500, 9)\n"
     ]
    }
   ],
   "source": [
    "print(train_df.shape)\n",
    "print(test_df.shape)"
   ]
  },
  {
   "cell_type": "markdown",
   "id": "c2062fb5-1ccc-4514-996d-7085ba8252cc",
   "metadata": {},
   "source": [
    "## EDA ON TRAIN DATA"
   ]
  },
  {
   "cell_type": "code",
   "execution_count": 15,
   "id": "88a1c0ff-9eae-4b23-a3c8-c6fed67be979",
   "metadata": {},
   "outputs": [
    {
     "data": {
      "text/plain": [
       "date                     0\n",
       "product_identifier       0\n",
       "department_identifier    0\n",
       "category_of_product      0\n",
       "outlet                   0\n",
       "state                    0\n",
       "sales                    0\n",
       "week_id                  0\n",
       "sell_price               0\n",
       "dtype: int64"
      ]
     },
     "execution_count": 15,
     "metadata": {},
     "output_type": "execute_result"
    }
   ],
   "source": [
    "# missing data\n",
    "train_df.isnull().sum()"
   ]
  },
  {
   "cell_type": "code",
   "execution_count": 16,
   "id": "2c378e9f-9a48-4c23-972c-c4e968d20f73",
   "metadata": {},
   "outputs": [
    {
     "name": "stdout",
     "output_type": "stream",
     "text": [
      "<class 'pandas.core.frame.DataFrame'>\n",
      "RangeIndex: 395000 entries, 0 to 394999\n",
      "Data columns (total 9 columns):\n",
      " #   Column                 Non-Null Count   Dtype  \n",
      "---  ------                 --------------   -----  \n",
      " 0   date                   395000 non-null  object \n",
      " 1   product_identifier     395000 non-null  int64  \n",
      " 2   department_identifier  395000 non-null  int64  \n",
      " 3   category_of_product    395000 non-null  object \n",
      " 4   outlet                 395000 non-null  int64  \n",
      " 5   state                  395000 non-null  object \n",
      " 6   sales                  395000 non-null  int64  \n",
      " 7   week_id                395000 non-null  int64  \n",
      " 8   sell_price             395000 non-null  float64\n",
      "dtypes: float64(1), int64(5), object(3)\n",
      "memory usage: 27.1+ MB\n"
     ]
    }
   ],
   "source": [
    "# data info\n",
    "train_df.info()"
   ]
  },
  {
   "cell_type": "code",
   "execution_count": 17,
   "id": "3090da34-e389-4943-8f6e-0e297eb6d40a",
   "metadata": {},
   "outputs": [],
   "source": [
    "# convert the date column to datatype\n",
    "import datetime as dt\n",
    "train_df['date'] = pd.to_datetime(train_df['date'])\n",
    "\n",
    "# extract the year, month and quarter in the date column\n",
    "train_df['date_year'] = train_df['date'].dt.year # the data contains 3 years stock prices 2011, 2012, 2013\n",
    "train_df['days_in_month'] = train_df['date'].dt.month # where 1 == January, 2 = Febuary, ... December == 12\n",
    "train_df['quarter'] = train_df['date'].dt.quarter # in a year we have 4 quaters 1, 2, 3, 4\n",
    "train_df['weekday'] = train_df['date'].dt.weekday # where Monday == 0, Tuesday == 1, ... Sunday == 6"
   ]
  },
  {
   "cell_type": "code",
   "execution_count": 18,
   "id": "a096636e-289f-4e9c-95e5-6ce64e213118",
   "metadata": {},
   "outputs": [
    {
     "name": "stdout",
     "output_type": "stream",
     "text": [
      "<class 'pandas.core.frame.DataFrame'>\n",
      "RangeIndex: 395000 entries, 0 to 394999\n",
      "Data columns (total 13 columns):\n",
      " #   Column                 Non-Null Count   Dtype         \n",
      "---  ------                 --------------   -----         \n",
      " 0   date                   395000 non-null  datetime64[ns]\n",
      " 1   product_identifier     395000 non-null  int64         \n",
      " 2   department_identifier  395000 non-null  int64         \n",
      " 3   category_of_product    395000 non-null  object        \n",
      " 4   outlet                 395000 non-null  int64         \n",
      " 5   state                  395000 non-null  object        \n",
      " 6   sales                  395000 non-null  int64         \n",
      " 7   week_id                395000 non-null  int64         \n",
      " 8   sell_price             395000 non-null  float64       \n",
      " 9   date_year              395000 non-null  int32         \n",
      " 10  days_in_month          395000 non-null  int32         \n",
      " 11  quarter                395000 non-null  int32         \n",
      " 12  weekday                395000 non-null  int32         \n",
      "dtypes: datetime64[ns](1), float64(1), int32(4), int64(5), object(2)\n",
      "memory usage: 33.1+ MB\n"
     ]
    }
   ],
   "source": [
    "train_df.info()"
   ]
  },
  {
   "cell_type": "code",
   "execution_count": 19,
   "id": "f6d61eb2-1ae4-4093-88fb-2047727ba8e4",
   "metadata": {},
   "outputs": [],
   "source": [
    "# Here i used strftime to extract the day and month name of my date for my analysis\n",
    "train_df['date_info'] = train_df['date'].dt.strftime('%d-%A-%B-%Y') # create a ne column data_info to store my strftime date\n",
    "train_df['dayname'] = train_df['date_info'].str.split('-', expand = True)[1] # assign the day name\n",
    "train_df['mnthname'] = train_df['date_info'].str.split('-', expand = True)[2] # assisgn the month name\n",
    "train_df['year_str'] = train_df['date_info'].str.split('-', expand = True)[3] # assisgn the month name"
   ]
  },
  {
   "cell_type": "code",
   "execution_count": 20,
   "id": "f68e9332-d983-4c63-ac25-677f1dad75c6",
   "metadata": {
    "scrolled": true
   },
   "outputs": [],
   "source": [
    "# # drop the date_info, date, department_identifiercolumn\n",
    "# train_df.drop(['date_info', 'department_identifier'],  axis = 1, inplace = True)"
   ]
  },
  {
   "cell_type": "code",
   "execution_count": null,
   "id": "1e46a90f-9e77-4406-80a0-6c136774097c",
   "metadata": {},
   "outputs": [],
   "source": []
  },
  {
   "cell_type": "code",
   "execution_count": 21,
   "id": "ba1efc7e-e4d8-49dd-b07b-2f1d11f55357",
   "metadata": {
    "scrolled": true
   },
   "outputs": [
    {
     "data": {
      "text/html": [
       "<div>\n",
       "<style scoped>\n",
       "    .dataframe tbody tr th:only-of-type {\n",
       "        vertical-align: middle;\n",
       "    }\n",
       "\n",
       "    .dataframe tbody tr th {\n",
       "        vertical-align: top;\n",
       "    }\n",
       "\n",
       "    .dataframe thead th {\n",
       "        text-align: right;\n",
       "    }\n",
       "</style>\n",
       "<table border=\"1\" class=\"dataframe\">\n",
       "  <thead>\n",
       "    <tr style=\"text-align: right;\">\n",
       "      <th></th>\n",
       "      <th>date</th>\n",
       "      <th>product_identifier</th>\n",
       "      <th>department_identifier</th>\n",
       "      <th>category_of_product</th>\n",
       "      <th>outlet</th>\n",
       "      <th>state</th>\n",
       "      <th>sales</th>\n",
       "      <th>week_id</th>\n",
       "      <th>sell_price</th>\n",
       "      <th>date_year</th>\n",
       "      <th>days_in_month</th>\n",
       "      <th>quarter</th>\n",
       "      <th>weekday</th>\n",
       "      <th>date_info</th>\n",
       "      <th>dayname</th>\n",
       "      <th>mnthname</th>\n",
       "      <th>year_str</th>\n",
       "    </tr>\n",
       "  </thead>\n",
       "  <tbody>\n",
       "    <tr>\n",
       "      <th>0</th>\n",
       "      <td>2012-01-01</td>\n",
       "      <td>74</td>\n",
       "      <td>11</td>\n",
       "      <td>others</td>\n",
       "      <td>111</td>\n",
       "      <td>Maharashtra</td>\n",
       "      <td>0</td>\n",
       "      <td>49</td>\n",
       "      <td>2.94</td>\n",
       "      <td>2012</td>\n",
       "      <td>1</td>\n",
       "      <td>1</td>\n",
       "      <td>6</td>\n",
       "      <td>01-Sunday-January-2012</td>\n",
       "      <td>Sunday</td>\n",
       "      <td>January</td>\n",
       "      <td>2012</td>\n",
       "    </tr>\n",
       "    <tr>\n",
       "      <th>1</th>\n",
       "      <td>2012-01-01</td>\n",
       "      <td>337</td>\n",
       "      <td>11</td>\n",
       "      <td>others</td>\n",
       "      <td>111</td>\n",
       "      <td>Maharashtra</td>\n",
       "      <td>1</td>\n",
       "      <td>49</td>\n",
       "      <td>7.44</td>\n",
       "      <td>2012</td>\n",
       "      <td>1</td>\n",
       "      <td>1</td>\n",
       "      <td>6</td>\n",
       "      <td>01-Sunday-January-2012</td>\n",
       "      <td>Sunday</td>\n",
       "      <td>January</td>\n",
       "      <td>2012</td>\n",
       "    </tr>\n",
       "    <tr>\n",
       "      <th>2</th>\n",
       "      <td>2012-01-01</td>\n",
       "      <td>423</td>\n",
       "      <td>12</td>\n",
       "      <td>others</td>\n",
       "      <td>111</td>\n",
       "      <td>Maharashtra</td>\n",
       "      <td>0</td>\n",
       "      <td>49</td>\n",
       "      <td>0.97</td>\n",
       "      <td>2012</td>\n",
       "      <td>1</td>\n",
       "      <td>1</td>\n",
       "      <td>6</td>\n",
       "      <td>01-Sunday-January-2012</td>\n",
       "      <td>Sunday</td>\n",
       "      <td>January</td>\n",
       "      <td>2012</td>\n",
       "    </tr>\n",
       "    <tr>\n",
       "      <th>3</th>\n",
       "      <td>2012-01-01</td>\n",
       "      <td>432</td>\n",
       "      <td>12</td>\n",
       "      <td>others</td>\n",
       "      <td>111</td>\n",
       "      <td>Maharashtra</td>\n",
       "      <td>0</td>\n",
       "      <td>49</td>\n",
       "      <td>4.97</td>\n",
       "      <td>2012</td>\n",
       "      <td>1</td>\n",
       "      <td>1</td>\n",
       "      <td>6</td>\n",
       "      <td>01-Sunday-January-2012</td>\n",
       "      <td>Sunday</td>\n",
       "      <td>January</td>\n",
       "      <td>2012</td>\n",
       "    </tr>\n",
       "    <tr>\n",
       "      <th>4</th>\n",
       "      <td>2012-01-01</td>\n",
       "      <td>581</td>\n",
       "      <td>21</td>\n",
       "      <td>fast_moving_consumer_goods</td>\n",
       "      <td>111</td>\n",
       "      <td>Maharashtra</td>\n",
       "      <td>0</td>\n",
       "      <td>49</td>\n",
       "      <td>4.88</td>\n",
       "      <td>2012</td>\n",
       "      <td>1</td>\n",
       "      <td>1</td>\n",
       "      <td>6</td>\n",
       "      <td>01-Sunday-January-2012</td>\n",
       "      <td>Sunday</td>\n",
       "      <td>January</td>\n",
       "      <td>2012</td>\n",
       "    </tr>\n",
       "  </tbody>\n",
       "</table>\n",
       "</div>"
      ],
      "text/plain": [
       "        date  product_identifier  department_identifier  \\\n",
       "0 2012-01-01                  74                     11   \n",
       "1 2012-01-01                 337                     11   \n",
       "2 2012-01-01                 423                     12   \n",
       "3 2012-01-01                 432                     12   \n",
       "4 2012-01-01                 581                     21   \n",
       "\n",
       "          category_of_product  outlet        state  sales  week_id  \\\n",
       "0                      others     111  Maharashtra      0       49   \n",
       "1                      others     111  Maharashtra      1       49   \n",
       "2                      others     111  Maharashtra      0       49   \n",
       "3                      others     111  Maharashtra      0       49   \n",
       "4  fast_moving_consumer_goods     111  Maharashtra      0       49   \n",
       "\n",
       "   sell_price  date_year  days_in_month  quarter  weekday  \\\n",
       "0        2.94       2012              1        1        6   \n",
       "1        7.44       2012              1        1        6   \n",
       "2        0.97       2012              1        1        6   \n",
       "3        4.97       2012              1        1        6   \n",
       "4        4.88       2012              1        1        6   \n",
       "\n",
       "                date_info dayname mnthname year_str  \n",
       "0  01-Sunday-January-2012  Sunday  January     2012  \n",
       "1  01-Sunday-January-2012  Sunday  January     2012  \n",
       "2  01-Sunday-January-2012  Sunday  January     2012  \n",
       "3  01-Sunday-January-2012  Sunday  January     2012  \n",
       "4  01-Sunday-January-2012  Sunday  January     2012  "
      ]
     },
     "execution_count": 21,
     "metadata": {},
     "output_type": "execute_result"
    }
   ],
   "source": [
    "train_df.head()"
   ]
  },
  {
   "cell_type": "code",
   "execution_count": 22,
   "id": "5b42c5b5-f0f0-4c6d-87a5-4c6f889d6083",
   "metadata": {},
   "outputs": [
    {
     "name": "stdout",
     "output_type": "stream",
     "text": [
      "We have 3 unique categories of products\n"
     ]
    }
   ],
   "source": [
    "# let check the category of date we have\n",
    "print(f'We have {train_df['category_of_product'].nunique()} unique categories of products')"
   ]
  },
  {
   "cell_type": "code",
   "execution_count": 23,
   "id": "4046c900-166d-4280-be55-6d4a21e05d61",
   "metadata": {},
   "outputs": [
    {
     "data": {
      "text/plain": [
       "category_of_product\n",
       "fast_moving_consumer_goods    229100\n",
       "drinks_and_food               134300\n",
       "others                         31600\n",
       "Name: count, dtype: int64"
      ]
     },
     "execution_count": 23,
     "metadata": {},
     "output_type": "execute_result"
    }
   ],
   "source": [
    "# check the value counts of each category of date\n",
    "train_df['category_of_product'].value_counts()"
   ]
  },
  {
   "cell_type": "code",
   "execution_count": 24,
   "id": "7ca1c891-2f5e-48a9-beee-f13c1b00d24f",
   "metadata": {},
   "outputs": [
    {
     "name": "stdout",
     "output_type": "stream",
     "text": [
      "We have 10 unique outlets\n"
     ]
    }
   ],
   "source": [
    "# check number of outlets for this company in India\n",
    "print(f'We have {train_df['outlet'].nunique()} unique outlets')"
   ]
  },
  {
   "cell_type": "code",
   "execution_count": 25,
   "id": "99220c64-3546-499c-bf3f-a700ffc77701",
   "metadata": {},
   "outputs": [],
   "source": [
    "# check the value counts of each outlet\n",
    "# train_df['outlet'].value_counts()"
   ]
  },
  {
   "cell_type": "code",
   "execution_count": 26,
   "id": "4b846c8b-bcd2-4ae6-942f-c843eb46f2a8",
   "metadata": {},
   "outputs": [
    {
     "name": "stdout",
     "output_type": "stream",
     "text": [
      "The company is located in 3 states across India\n"
     ]
    }
   ],
   "source": [
    "# check the number states the company is located in india\n",
    "print(f'The company is located in {train_df['state'].nunique()} states across India')"
   ]
  },
  {
   "cell_type": "code",
   "execution_count": 27,
   "id": "5a981b8f-6d53-42c9-9819-bcdef5656435",
   "metadata": {},
   "outputs": [
    {
     "data": {
      "text/plain": [
       "['Maharashtra', 'Telangana', 'Kerala']"
      ]
     },
     "execution_count": 27,
     "metadata": {},
     "output_type": "execute_result"
    }
   ],
   "source": [
    "# list the states the company is located in India\n",
    "train_df['state'].value_counts().index.tolist()"
   ]
  },
  {
   "cell_type": "code",
   "execution_count": 28,
   "id": "e43e5576-5f2e-430d-84cd-1491f9c2e8e8",
   "metadata": {},
   "outputs": [
    {
     "data": {
      "text/html": [
       "<div>\n",
       "<style scoped>\n",
       "    .dataframe tbody tr th:only-of-type {\n",
       "        vertical-align: middle;\n",
       "    }\n",
       "\n",
       "    .dataframe tbody tr th {\n",
       "        vertical-align: top;\n",
       "    }\n",
       "\n",
       "    .dataframe thead th {\n",
       "        text-align: right;\n",
       "    }\n",
       "</style>\n",
       "<table border=\"1\" class=\"dataframe\">\n",
       "  <thead>\n",
       "    <tr style=\"text-align: right;\">\n",
       "      <th></th>\n",
       "      <th>date</th>\n",
       "      <th>product_identifier</th>\n",
       "      <th>department_identifier</th>\n",
       "      <th>outlet</th>\n",
       "      <th>sales</th>\n",
       "      <th>week_id</th>\n",
       "      <th>sell_price</th>\n",
       "      <th>date_year</th>\n",
       "      <th>days_in_month</th>\n",
       "      <th>quarter</th>\n",
       "      <th>weekday</th>\n",
       "    </tr>\n",
       "  </thead>\n",
       "  <tbody>\n",
       "    <tr>\n",
       "      <th>count</th>\n",
       "      <td>395000</td>\n",
       "      <td>395000.000000</td>\n",
       "      <td>395000.000000</td>\n",
       "      <td>395000.000000</td>\n",
       "      <td>395000.000000</td>\n",
       "      <td>395000.000000</td>\n",
       "      <td>395000.000000</td>\n",
       "      <td>395000.000000</td>\n",
       "      <td>395000.000000</td>\n",
       "      <td>395000.000000</td>\n",
       "      <td>395000.000000</td>\n",
       "    </tr>\n",
       "    <tr>\n",
       "      <th>mean</th>\n",
       "      <td>2013-01-29 12:00:00</td>\n",
       "      <td>1509.960000</td>\n",
       "      <td>24.460000</td>\n",
       "      <td>211.200000</td>\n",
       "      <td>1.228919</td>\n",
       "      <td>105.070886</td>\n",
       "      <td>4.987644</td>\n",
       "      <td>2012.611392</td>\n",
       "      <td>6.143038</td>\n",
       "      <td>2.394937</td>\n",
       "      <td>2.997468</td>\n",
       "    </tr>\n",
       "    <tr>\n",
       "      <th>min</th>\n",
       "      <td>2012-01-01 00:00:00</td>\n",
       "      <td>74.000000</td>\n",
       "      <td>11.000000</td>\n",
       "      <td>111.000000</td>\n",
       "      <td>0.000000</td>\n",
       "      <td>49.000000</td>\n",
       "      <td>0.050000</td>\n",
       "      <td>2012.000000</td>\n",
       "      <td>1.000000</td>\n",
       "      <td>1.000000</td>\n",
       "      <td>0.000000</td>\n",
       "    </tr>\n",
       "    <tr>\n",
       "      <th>25%</th>\n",
       "      <td>2012-07-16 00:00:00</td>\n",
       "      <td>926.000000</td>\n",
       "      <td>21.000000</td>\n",
       "      <td>113.000000</td>\n",
       "      <td>0.000000</td>\n",
       "      <td>77.000000</td>\n",
       "      <td>2.680000</td>\n",
       "      <td>2012.000000</td>\n",
       "      <td>3.000000</td>\n",
       "      <td>1.000000</td>\n",
       "      <td>1.000000</td>\n",
       "    </tr>\n",
       "    <tr>\n",
       "      <th>50%</th>\n",
       "      <td>2013-01-29 12:00:00</td>\n",
       "      <td>1325.000000</td>\n",
       "      <td>22.000000</td>\n",
       "      <td>221.500000</td>\n",
       "      <td>0.000000</td>\n",
       "      <td>105.000000</td>\n",
       "      <td>3.980000</td>\n",
       "      <td>2013.000000</td>\n",
       "      <td>6.000000</td>\n",
       "      <td>2.000000</td>\n",
       "      <td>3.000000</td>\n",
       "    </tr>\n",
       "    <tr>\n",
       "      <th>75%</th>\n",
       "      <td>2013-08-15 00:00:00</td>\n",
       "      <td>1753.000000</td>\n",
       "      <td>31.000000</td>\n",
       "      <td>331.000000</td>\n",
       "      <td>1.000000</td>\n",
       "      <td>133.000000</td>\n",
       "      <td>6.480000</td>\n",
       "      <td>2013.000000</td>\n",
       "      <td>9.000000</td>\n",
       "      <td>3.000000</td>\n",
       "      <td>5.000000</td>\n",
       "    </tr>\n",
       "    <tr>\n",
       "      <th>max</th>\n",
       "      <td>2014-02-28 00:00:00</td>\n",
       "      <td>3021.000000</td>\n",
       "      <td>33.000000</td>\n",
       "      <td>333.000000</td>\n",
       "      <td>293.000000</td>\n",
       "      <td>161.000000</td>\n",
       "      <td>44.360000</td>\n",
       "      <td>2014.000000</td>\n",
       "      <td>12.000000</td>\n",
       "      <td>4.000000</td>\n",
       "      <td>6.000000</td>\n",
       "    </tr>\n",
       "    <tr>\n",
       "      <th>std</th>\n",
       "      <td>NaN</td>\n",
       "      <td>809.799518</td>\n",
       "      <td>6.337863</td>\n",
       "      <td>91.161291</td>\n",
       "      <td>3.595266</td>\n",
       "      <td>32.578749</td>\n",
       "      <td>3.874444</td>\n",
       "      <td>0.622061</td>\n",
       "      <td>3.576092</td>\n",
       "      <td>1.145593</td>\n",
       "      <td>2.000001</td>\n",
       "    </tr>\n",
       "  </tbody>\n",
       "</table>\n",
       "</div>"
      ],
      "text/plain": [
       "                      date  product_identifier  department_identifier  \\\n",
       "count               395000       395000.000000          395000.000000   \n",
       "mean   2013-01-29 12:00:00         1509.960000              24.460000   \n",
       "min    2012-01-01 00:00:00           74.000000              11.000000   \n",
       "25%    2012-07-16 00:00:00          926.000000              21.000000   \n",
       "50%    2013-01-29 12:00:00         1325.000000              22.000000   \n",
       "75%    2013-08-15 00:00:00         1753.000000              31.000000   \n",
       "max    2014-02-28 00:00:00         3021.000000              33.000000   \n",
       "std                    NaN          809.799518               6.337863   \n",
       "\n",
       "              outlet          sales        week_id     sell_price  \\\n",
       "count  395000.000000  395000.000000  395000.000000  395000.000000   \n",
       "mean      211.200000       1.228919     105.070886       4.987644   \n",
       "min       111.000000       0.000000      49.000000       0.050000   \n",
       "25%       113.000000       0.000000      77.000000       2.680000   \n",
       "50%       221.500000       0.000000     105.000000       3.980000   \n",
       "75%       331.000000       1.000000     133.000000       6.480000   \n",
       "max       333.000000     293.000000     161.000000      44.360000   \n",
       "std        91.161291       3.595266      32.578749       3.874444   \n",
       "\n",
       "           date_year  days_in_month        quarter        weekday  \n",
       "count  395000.000000  395000.000000  395000.000000  395000.000000  \n",
       "mean     2012.611392       6.143038       2.394937       2.997468  \n",
       "min      2012.000000       1.000000       1.000000       0.000000  \n",
       "25%      2012.000000       3.000000       1.000000       1.000000  \n",
       "50%      2013.000000       6.000000       2.000000       3.000000  \n",
       "75%      2013.000000       9.000000       3.000000       5.000000  \n",
       "max      2014.000000      12.000000       4.000000       6.000000  \n",
       "std         0.622061       3.576092       1.145593       2.000001  "
      ]
     },
     "execution_count": 28,
     "metadata": {},
     "output_type": "execute_result"
    }
   ],
   "source": [
    "# check the statistics of the numerical data\n",
    "train_df.describe()"
   ]
  },
  {
   "cell_type": "markdown",
   "id": "2a5d19e3-e161-4e3e-a000-e3c9c11f14f6",
   "metadata": {},
   "source": [
    "## DATA VISUALIZATION"
   ]
  },
  {
   "cell_type": "code",
   "execution_count": 29,
   "id": "fe285984-d61b-42f9-8376-eceea98d1260",
   "metadata": {},
   "outputs": [
    {
     "data": {
      "image/png": "[encoded data removed]",
      "text/plain": [
       "<Figure size 2000x2000 with 2 Axes>"
      ]
     },
     "metadata": {},
     "output_type": "display_data"
    }
   ],
   "source": [
    "# let check the correlations of the features in our data\n",
    "num_data = ['product_identifier', 'outlet', 'sales', 'week_id', 'sell_price', 'date_year', 'days_in_month', 'quarter', 'weekday']\n",
    "train_num = train_df[num_data]\n",
    "correlation = train_num.corr()\n",
    "# train_num.head()\n",
    "\n",
    "\n",
    "#constructing a heat  to understand the correlation\n",
    "plt.figure(figsize=(20,20))\n",
    "sns.heatmap(correlation, cbar=True,square = True, fmt = '.1f', annot = True, annot_kws={'size':8}, cmap='Blues');"
   ]
  },
  {
   "cell_type": "code",
   "execution_count": 30,
   "id": "f4da8697-d9cf-4a10-a687-67f48bd5a5a6",
   "metadata": {},
   "outputs": [
    {
     "data": {
      "image/png": "[encoded data removed]",
      "text/plain": [
       "<Figure size 640x480 with 1 Axes>"
      ]
     },
     "metadata": {},
     "output_type": "display_data"
    }
   ],
   "source": [
    "# check for sales across states by product category\n",
    "sns.barplot(x = 'state',\n",
    "            y = 'sell_price',\n",
    "            hue = 'category_of_product',\n",
    "            data = train_df,\n",
    "            # estimator = np.median,\n",
    "            errorbar=('ci', 0));"
   ]
  },
  {
   "cell_type": "code",
   "execution_count": 31,
   "id": "cf570252-bd6c-4136-9dbf-bbbd9faf4919",
   "metadata": {},
   "outputs": [
    {
     "data": {
      "image/png": "[encoded data removed]",
      "text/plain": [
       "<Figure size 640x480 with 1 Axes>"
      ]
     },
     "metadata": {},
     "output_type": "display_data"
    }
   ],
   "source": [
    "sns.histplot(data=train_df, x=\"sell_price\", kde=True, bins=50);"
   ]
  },
  {
   "cell_type": "code",
   "execution_count": 32,
   "id": "30fd26fa-8995-428d-95a0-d90bded79f57",
   "metadata": {},
   "outputs": [
    {
     "data": {
      "image/png": "[encoded data removed]",
      "text/plain": [
       "<Figure size 640x480 with 1 Axes>"
      ]
     },
     "metadata": {},
     "output_type": "display_data"
    }
   ],
   "source": [
    "sns.histplot(data=train_df, x=\"sell_price\", hue=\"category_of_product\", multiple=\"stack\", bins=10);"
   ]
  },
  {
   "cell_type": "code",
   "execution_count": 33,
   "id": "c625a4fd-25d3-4ffd-943c-8d4cf429ae4e",
   "metadata": {},
   "outputs": [
    {
     "data": {
      "image/png": "[encoded data removed]",
      "text/plain": [
       "<Figure size 640x480 with 1 Axes>"
      ]
     },
     "metadata": {},
     "output_type": "display_data"
    }
   ],
   "source": [
    "sns.histplot(data=train_df, x=\"mnthname\", bins=10);"
   ]
  },
  {
   "cell_type": "code",
   "execution_count": 34,
   "id": "b4e3d50c-1293-4a4a-ba1b-a6d91e705abf",
   "metadata": {},
   "outputs": [
    {
     "data": {
      "image/png": "[encoded data removed]",
      "text/plain": [
       "<Figure size 640x480 with 1 Axes>"
      ]
     },
     "metadata": {},
     "output_type": "display_data"
    }
   ],
   "source": [
    "# check for sales across quarters by product category\n",
    "sns.barplot(x = 'quarter',\n",
    "            y = 'sell_price',\n",
    "            hue = 'category_of_product',\n",
    "            data = train_df,\n",
    "            # estimator = np.median,\n",
    "            errorbar=('ci', 0));"
   ]
  },
  {
   "cell_type": "code",
   "execution_count": 35,
   "id": "2ccc7f91-d983-4b1c-b3af-d43a238b3a67",
   "metadata": {},
   "outputs": [
    {
     "data": {
      "text/plain": [
       "state\n",
       "Kerala         591171.32\n",
       "Maharashtra    788347.05\n",
       "Telangana      590600.83\n",
       "Name: sell_price, dtype: float64"
      ]
     },
     "execution_count": 35,
     "metadata": {},
     "output_type": "execute_result"
    }
   ],
   "source": [
    "train_df.groupby('state')['sell_price'].sum()"
   ]
  },
  {
   "cell_type": "code",
   "execution_count": 36,
   "id": "ebc4acc5-8e46-41f2-a82a-55558180ee7c",
   "metadata": {},
   "outputs": [
    {
     "data": {
      "image/png": "[encoded data removed]",
      "text/plain": [
       "<Figure size 640x480 with 1 Axes>"
      ]
     },
     "metadata": {},
     "output_type": "display_data"
    }
   ],
   "source": [
    "train_df.groupby('state')['sell_price'].sum().plot(kind = 'bar');"
   ]
  },
  {
   "cell_type": "code",
   "execution_count": 37,
   "id": "78906921-3384-4365-b5fb-ad94494ca47d",
   "metadata": {},
   "outputs": [
    {
     "data": {
      "text/plain": [
       "year_str\n",
       "2012    908199.84\n",
       "2013    915250.91\n",
       "2014    146668.45\n",
       "Name: sell_price, dtype: float64"
      ]
     },
     "execution_count": 37,
     "metadata": {},
     "output_type": "execute_result"
    }
   ],
   "source": [
    "train_df.groupby('year_str')['sell_price'].sum()"
   ]
  },
  {
   "cell_type": "code",
   "execution_count": 38,
   "id": "ae27ae20-bf44-4d5a-8b98-548770412ca6",
   "metadata": {},
   "outputs": [
    {
     "data": {
      "image/png": "[encoded data removed]",
      "text/plain": [
       "<Figure size 640x480 with 1 Axes>"
      ]
     },
     "metadata": {},
     "output_type": "display_data"
    }
   ],
   "source": [
    "train_df.groupby('year_str')['sell_price'].sum().plot(kind = 'bar'); #figsize=(10,6))"
   ]
  },
  {
   "cell_type": "code",
   "execution_count": 39,
   "id": "e567ca31-33dc-43f4-bd76-bc7cfba3643f",
   "metadata": {},
   "outputs": [
    {
     "data": {
      "text/plain": [
       "mnthname\n",
       "April        149699.47\n",
       "August       154738.51\n",
       "December     154695.57\n",
       "February     211637.06\n",
       "January      231190.09\n",
       "July         155577.12\n",
       "June         149870.97\n",
       "March        154845.92\n",
       "May          154665.11\n",
       "November     149474.15\n",
       "October      154234.56\n",
       "September    149490.67\n",
       "Name: sell_price, dtype: float64"
      ]
     },
     "execution_count": 39,
     "metadata": {},
     "output_type": "execute_result"
    }
   ],
   "source": [
    "train_df.groupby('mnthname')['sell_price'].sum()"
   ]
  },
  {
   "cell_type": "code",
   "execution_count": 40,
   "id": "504acf3b-174e-441a-8ab8-7108cc0967db",
   "metadata": {},
   "outputs": [
    {
     "data": {
      "text/plain": [
       "<Axes: xlabel='mnthname'>"
      ]
     },
     "execution_count": 40,
     "metadata": {},
     "output_type": "execute_result"
    },
    {
     "data": {
      "image/png": "[encoded data removed]",
      "text/plain": [
       "<Figure size 640x480 with 1 Axes>"
      ]
     },
     "metadata": {},
     "output_type": "display_data"
    }
   ],
   "source": [
    "train_df.groupby('mnthname')['sell_price'].sum().plot(kind = 'bar')"
   ]
  },
  {
   "cell_type": "code",
   "execution_count": 41,
   "id": "4d229a96-eb19-4620-bc79-0891ffc8c81e",
   "metadata": {},
   "outputs": [],
   "source": [
    "# train_df.groupby('dayname')['sell_price'].sum()"
   ]
  },
  {
   "cell_type": "code",
   "execution_count": 42,
   "id": "0eb40e1d-4c97-48dc-bcd6-ad54a09f9d1e",
   "metadata": {},
   "outputs": [
    {
     "data": {
      "image/png": "[encoded data removed]",
      "text/plain": [
       "<Figure size 640x480 with 1 Axes>"
      ]
     },
     "metadata": {},
     "output_type": "display_data"
    }
   ],
   "source": [
    "plt.plot(train_df.date, train_df.sell_price, color='red');"
   ]
  },
  {
   "cell_type": "code",
   "execution_count": 43,
   "id": "ea57d066-b43c-47b8-9390-34ffbf58f420",
   "metadata": {},
   "outputs": [],
   "source": [
    "# drop columes not needed on train fataframe\n",
    "# train_df.columns"
   ]
  },
  {
   "cell_type": "code",
   "execution_count": 44,
   "id": "63ce7f56-7594-43ef-a887-99d9279ce603",
   "metadata": {},
   "outputs": [],
   "source": [
    "# get the target data\n",
    "target = train_df['sales']"
   ]
  },
  {
   "cell_type": "code",
   "execution_count": 45,
   "id": "a84b377b-c16f-4f65-8e80-99d410235c6d",
   "metadata": {},
   "outputs": [
    {
     "data": {
      "text/plain": [
       "0         0\n",
       "1         1\n",
       "2         0\n",
       "3         0\n",
       "4         0\n",
       "         ..\n",
       "394995    2\n",
       "394996    8\n",
       "394997    0\n",
       "394998    0\n",
       "394999    0\n",
       "Name: sales, Length: 395000, dtype: int64"
      ]
     },
     "execution_count": 45,
     "metadata": {},
     "output_type": "execute_result"
    }
   ],
   "source": [
    "target"
   ]
  },
  {
   "cell_type": "code",
   "execution_count": 46,
   "id": "bfa1a554-24c2-4d8a-a3ca-e4322e17ec81",
   "metadata": {},
   "outputs": [],
   "source": [
    "# # drop the date_info, date, department_identifiercolumn\n",
    "train_df.drop(['date_info', 'department_identifier', 'dayname', 'mnthname', 'year_str', 'date_year'],  axis = 1, inplace = True)"
   ]
  },
  {
   "cell_type": "code",
   "execution_count": 47,
   "id": "d850e542-15bb-446e-8b35-6d6d3d94c333",
   "metadata": {},
   "outputs": [
    {
     "data": {
      "text/html": [
       "<div>\n",
       "<style scoped>\n",
       "    .dataframe tbody tr th:only-of-type {\n",
       "        vertical-align: middle;\n",
       "    }\n",
       "\n",
       "    .dataframe tbody tr th {\n",
       "        vertical-align: top;\n",
       "    }\n",
       "\n",
       "    .dataframe thead th {\n",
       "        text-align: right;\n",
       "    }\n",
       "</style>\n",
       "<table border=\"1\" class=\"dataframe\">\n",
       "  <thead>\n",
       "    <tr style=\"text-align: right;\">\n",
       "      <th></th>\n",
       "      <th>date</th>\n",
       "      <th>product_identifier</th>\n",
       "      <th>category_of_product</th>\n",
       "      <th>outlet</th>\n",
       "      <th>state</th>\n",
       "      <th>sales</th>\n",
       "      <th>week_id</th>\n",
       "      <th>sell_price</th>\n",
       "      <th>days_in_month</th>\n",
       "      <th>quarter</th>\n",
       "      <th>weekday</th>\n",
       "    </tr>\n",
       "  </thead>\n",
       "  <tbody>\n",
       "    <tr>\n",
       "      <th>0</th>\n",
       "      <td>2012-01-01</td>\n",
       "      <td>74</td>\n",
       "      <td>others</td>\n",
       "      <td>111</td>\n",
       "      <td>Maharashtra</td>\n",
       "      <td>0</td>\n",
       "      <td>49</td>\n",
       "      <td>2.94</td>\n",
       "      <td>1</td>\n",
       "      <td>1</td>\n",
       "      <td>6</td>\n",
       "    </tr>\n",
       "    <tr>\n",
       "      <th>1</th>\n",
       "      <td>2012-01-01</td>\n",
       "      <td>337</td>\n",
       "      <td>others</td>\n",
       "      <td>111</td>\n",
       "      <td>Maharashtra</td>\n",
       "      <td>1</td>\n",
       "      <td>49</td>\n",
       "      <td>7.44</td>\n",
       "      <td>1</td>\n",
       "      <td>1</td>\n",
       "      <td>6</td>\n",
       "    </tr>\n",
       "    <tr>\n",
       "      <th>2</th>\n",
       "      <td>2012-01-01</td>\n",
       "      <td>423</td>\n",
       "      <td>others</td>\n",
       "      <td>111</td>\n",
       "      <td>Maharashtra</td>\n",
       "      <td>0</td>\n",
       "      <td>49</td>\n",
       "      <td>0.97</td>\n",
       "      <td>1</td>\n",
       "      <td>1</td>\n",
       "      <td>6</td>\n",
       "    </tr>\n",
       "    <tr>\n",
       "      <th>3</th>\n",
       "      <td>2012-01-01</td>\n",
       "      <td>432</td>\n",
       "      <td>others</td>\n",
       "      <td>111</td>\n",
       "      <td>Maharashtra</td>\n",
       "      <td>0</td>\n",
       "      <td>49</td>\n",
       "      <td>4.97</td>\n",
       "      <td>1</td>\n",
       "      <td>1</td>\n",
       "      <td>6</td>\n",
       "    </tr>\n",
       "    <tr>\n",
       "      <th>4</th>\n",
       "      <td>2012-01-01</td>\n",
       "      <td>581</td>\n",
       "      <td>fast_moving_consumer_goods</td>\n",
       "      <td>111</td>\n",
       "      <td>Maharashtra</td>\n",
       "      <td>0</td>\n",
       "      <td>49</td>\n",
       "      <td>4.88</td>\n",
       "      <td>1</td>\n",
       "      <td>1</td>\n",
       "      <td>6</td>\n",
       "    </tr>\n",
       "  </tbody>\n",
       "</table>\n",
       "</div>"
      ],
      "text/plain": [
       "        date  product_identifier         category_of_product  outlet  \\\n",
       "0 2012-01-01                  74                      others     111   \n",
       "1 2012-01-01                 337                      others     111   \n",
       "2 2012-01-01                 423                      others     111   \n",
       "3 2012-01-01                 432                      others     111   \n",
       "4 2012-01-01                 581  fast_moving_consumer_goods     111   \n",
       "\n",
       "         state  sales  week_id  sell_price  days_in_month  quarter  weekday  \n",
       "0  Maharashtra      0       49        2.94              1        1        6  \n",
       "1  Maharashtra      1       49        7.44              1        1        6  \n",
       "2  Maharashtra      0       49        0.97              1        1        6  \n",
       "3  Maharashtra      0       49        4.97              1        1        6  \n",
       "4  Maharashtra      0       49        4.88              1        1        6  "
      ]
     },
     "execution_count": 47,
     "metadata": {},
     "output_type": "execute_result"
    }
   ],
   "source": [
    "train_df.head()"
   ]
  },
  {
   "cell_type": "code",
   "execution_count": 48,
   "id": "a5d20057-e133-480e-9e32-09bcc753a99c",
   "metadata": {},
   "outputs": [],
   "source": [
    "# train_df.info()"
   ]
  },
  {
   "cell_type": "markdown",
   "id": "67bdaba8-7f2f-4ae7-be4b-a5247ddf542c",
   "metadata": {},
   "source": [
    "## EDA ON TEST DATA"
   ]
  },
  {
   "cell_type": "code",
   "execution_count": 49,
   "id": "4b74e5a3-1f6c-4586-a795-97e144f505ae",
   "metadata": {},
   "outputs": [
    {
     "data": {
      "text/html": [
       "<div>\n",
       "<style scoped>\n",
       "    .dataframe tbody tr th:only-of-type {\n",
       "        vertical-align: middle;\n",
       "    }\n",
       "\n",
       "    .dataframe tbody tr th {\n",
       "        vertical-align: top;\n",
       "    }\n",
       "\n",
       "    .dataframe thead th {\n",
       "        text-align: right;\n",
       "    }\n",
       "</style>\n",
       "<table border=\"1\" class=\"dataframe\">\n",
       "  <thead>\n",
       "    <tr style=\"text-align: right;\">\n",
       "      <th></th>\n",
       "      <th>id</th>\n",
       "      <th>date</th>\n",
       "      <th>product_identifier</th>\n",
       "      <th>department_identifier</th>\n",
       "      <th>category_of_product</th>\n",
       "      <th>outlet</th>\n",
       "      <th>state</th>\n",
       "      <th>week_id</th>\n",
       "      <th>sell_price</th>\n",
       "    </tr>\n",
       "  </thead>\n",
       "  <tbody>\n",
       "    <tr>\n",
       "      <th>0</th>\n",
       "      <td>1</td>\n",
       "      <td>2014-03-01</td>\n",
       "      <td>74</td>\n",
       "      <td>11</td>\n",
       "      <td>others</td>\n",
       "      <td>111</td>\n",
       "      <td>Maharashtra</td>\n",
       "      <td>162</td>\n",
       "      <td>3.43</td>\n",
       "    </tr>\n",
       "    <tr>\n",
       "      <th>1</th>\n",
       "      <td>2</td>\n",
       "      <td>2014-03-01</td>\n",
       "      <td>337</td>\n",
       "      <td>11</td>\n",
       "      <td>others</td>\n",
       "      <td>111</td>\n",
       "      <td>Maharashtra</td>\n",
       "      <td>162</td>\n",
       "      <td>7.78</td>\n",
       "    </tr>\n",
       "    <tr>\n",
       "      <th>2</th>\n",
       "      <td>3</td>\n",
       "      <td>2014-03-01</td>\n",
       "      <td>423</td>\n",
       "      <td>12</td>\n",
       "      <td>others</td>\n",
       "      <td>111</td>\n",
       "      <td>Maharashtra</td>\n",
       "      <td>162</td>\n",
       "      <td>0.97</td>\n",
       "    </tr>\n",
       "    <tr>\n",
       "      <th>3</th>\n",
       "      <td>4</td>\n",
       "      <td>2014-03-01</td>\n",
       "      <td>432</td>\n",
       "      <td>12</td>\n",
       "      <td>others</td>\n",
       "      <td>111</td>\n",
       "      <td>Maharashtra</td>\n",
       "      <td>162</td>\n",
       "      <td>4.97</td>\n",
       "    </tr>\n",
       "    <tr>\n",
       "      <th>4</th>\n",
       "      <td>5</td>\n",
       "      <td>2014-03-01</td>\n",
       "      <td>581</td>\n",
       "      <td>21</td>\n",
       "      <td>fast_moving_consumer_goods</td>\n",
       "      <td>111</td>\n",
       "      <td>Maharashtra</td>\n",
       "      <td>162</td>\n",
       "      <td>4.88</td>\n",
       "    </tr>\n",
       "  </tbody>\n",
       "</table>\n",
       "</div>"
      ],
      "text/plain": [
       "   id        date  product_identifier  department_identifier  \\\n",
       "0   1  2014-03-01                  74                     11   \n",
       "1   2  2014-03-01                 337                     11   \n",
       "2   3  2014-03-01                 423                     12   \n",
       "3   4  2014-03-01                 432                     12   \n",
       "4   5  2014-03-01                 581                     21   \n",
       "\n",
       "          category_of_product  outlet        state  week_id  sell_price  \n",
       "0                      others     111  Maharashtra      162        3.43  \n",
       "1                      others     111  Maharashtra      162        7.78  \n",
       "2                      others     111  Maharashtra      162        0.97  \n",
       "3                      others     111  Maharashtra      162        4.97  \n",
       "4  fast_moving_consumer_goods     111  Maharashtra      162        4.88  "
      ]
     },
     "execution_count": 49,
     "metadata": {},
     "output_type": "execute_result"
    }
   ],
   "source": [
    "test_df.head()"
   ]
  },
  {
   "cell_type": "code",
   "execution_count": 50,
   "id": "809fdc00-6b81-470f-8ccc-c02294c067af",
   "metadata": {},
   "outputs": [],
   "source": [
    "# convert date column to date datatype\n",
    "test_df['date'] = pd.to_datetime(test_df['date'])\n",
    "\n",
    "# extract the year, month and quarter in the date column\n",
    "test_df['date_year'] = test_df['date'].dt.year # the data contains 3 years stock prices 2011, 2012, 2013\n",
    "test_df['days_in_month'] = test_df['date'].dt.month # where 1 == January, 2 = Febuary, ... December == 12\n",
    "test_df['quarter'] = test_df['date'].dt.quarter # in a year we have 4 quaters 1, 2, 3, 4\n",
    "test_df['weekday'] = test_df['date'].dt.weekday # where Monday == 0, Tuesday == 1, ... Sunday == 6"
   ]
  },
  {
   "cell_type": "code",
   "execution_count": 51,
   "id": "88f826d3-b293-4348-85b5-48aeb790a99f",
   "metadata": {},
   "outputs": [],
   "source": [
    "# test_df.head()"
   ]
  },
  {
   "cell_type": "code",
   "execution_count": 52,
   "id": "3a6e8119-b1d1-4cb3-aa7f-1a4792023a6c",
   "metadata": {},
   "outputs": [],
   "source": [
    "# # drop the date_info, date, department_identifiercolumn\n",
    "test_df.drop(['department_identifier', 'date_year'],  axis = 1, inplace = True)"
   ]
  },
  {
   "cell_type": "code",
   "execution_count": 53,
   "id": "5cd79334-d2fb-460b-b368-43600cbb7ff9",
   "metadata": {},
   "outputs": [
    {
     "name": "stdout",
     "output_type": "stream",
     "text": [
      "(395000, 11)\n",
      "(15500, 11)\n"
     ]
    }
   ],
   "source": [
    "print(train_df.shape)\n",
    "print(test_df.shape)"
   ]
  },
  {
   "cell_type": "code",
   "execution_count": 54,
   "id": "d8cc1898-e049-4b77-bfa7-61a244587e4b",
   "metadata": {},
   "outputs": [
    {
     "data": {
      "text/html": [
       "<div>\n",
       "<style scoped>\n",
       "    .dataframe tbody tr th:only-of-type {\n",
       "        vertical-align: middle;\n",
       "    }\n",
       "\n",
       "    .dataframe tbody tr th {\n",
       "        vertical-align: top;\n",
       "    }\n",
       "\n",
       "    .dataframe thead th {\n",
       "        text-align: right;\n",
       "    }\n",
       "</style>\n",
       "<table border=\"1\" class=\"dataframe\">\n",
       "  <thead>\n",
       "    <tr style=\"text-align: right;\">\n",
       "      <th></th>\n",
       "      <th>id</th>\n",
       "      <th>date</th>\n",
       "      <th>product_identifier</th>\n",
       "      <th>category_of_product</th>\n",
       "      <th>outlet</th>\n",
       "      <th>state</th>\n",
       "      <th>week_id</th>\n",
       "      <th>sell_price</th>\n",
       "      <th>days_in_month</th>\n",
       "      <th>quarter</th>\n",
       "      <th>weekday</th>\n",
       "    </tr>\n",
       "  </thead>\n",
       "  <tbody>\n",
       "    <tr>\n",
       "      <th>0</th>\n",
       "      <td>1</td>\n",
       "      <td>2014-03-01</td>\n",
       "      <td>74</td>\n",
       "      <td>others</td>\n",
       "      <td>111</td>\n",
       "      <td>Maharashtra</td>\n",
       "      <td>162</td>\n",
       "      <td>3.43</td>\n",
       "      <td>3</td>\n",
       "      <td>1</td>\n",
       "      <td>5</td>\n",
       "    </tr>\n",
       "    <tr>\n",
       "      <th>1</th>\n",
       "      <td>2</td>\n",
       "      <td>2014-03-01</td>\n",
       "      <td>337</td>\n",
       "      <td>others</td>\n",
       "      <td>111</td>\n",
       "      <td>Maharashtra</td>\n",
       "      <td>162</td>\n",
       "      <td>7.78</td>\n",
       "      <td>3</td>\n",
       "      <td>1</td>\n",
       "      <td>5</td>\n",
       "    </tr>\n",
       "    <tr>\n",
       "      <th>2</th>\n",
       "      <td>3</td>\n",
       "      <td>2014-03-01</td>\n",
       "      <td>423</td>\n",
       "      <td>others</td>\n",
       "      <td>111</td>\n",
       "      <td>Maharashtra</td>\n",
       "      <td>162</td>\n",
       "      <td>0.97</td>\n",
       "      <td>3</td>\n",
       "      <td>1</td>\n",
       "      <td>5</td>\n",
       "    </tr>\n",
       "    <tr>\n",
       "      <th>3</th>\n",
       "      <td>4</td>\n",
       "      <td>2014-03-01</td>\n",
       "      <td>432</td>\n",
       "      <td>others</td>\n",
       "      <td>111</td>\n",
       "      <td>Maharashtra</td>\n",
       "      <td>162</td>\n",
       "      <td>4.97</td>\n",
       "      <td>3</td>\n",
       "      <td>1</td>\n",
       "      <td>5</td>\n",
       "    </tr>\n",
       "    <tr>\n",
       "      <th>4</th>\n",
       "      <td>5</td>\n",
       "      <td>2014-03-01</td>\n",
       "      <td>581</td>\n",
       "      <td>fast_moving_consumer_goods</td>\n",
       "      <td>111</td>\n",
       "      <td>Maharashtra</td>\n",
       "      <td>162</td>\n",
       "      <td>4.88</td>\n",
       "      <td>3</td>\n",
       "      <td>1</td>\n",
       "      <td>5</td>\n",
       "    </tr>\n",
       "  </tbody>\n",
       "</table>\n",
       "</div>"
      ],
      "text/plain": [
       "   id       date  product_identifier         category_of_product  outlet  \\\n",
       "0   1 2014-03-01                  74                      others     111   \n",
       "1   2 2014-03-01                 337                      others     111   \n",
       "2   3 2014-03-01                 423                      others     111   \n",
       "3   4 2014-03-01                 432                      others     111   \n",
       "4   5 2014-03-01                 581  fast_moving_consumer_goods     111   \n",
       "\n",
       "         state  week_id  sell_price  days_in_month  quarter  weekday  \n",
       "0  Maharashtra      162        3.43              3        1        5  \n",
       "1  Maharashtra      162        7.78              3        1        5  \n",
       "2  Maharashtra      162        0.97              3        1        5  \n",
       "3  Maharashtra      162        4.97              3        1        5  \n",
       "4  Maharashtra      162        4.88              3        1        5  "
      ]
     },
     "execution_count": 54,
     "metadata": {},
     "output_type": "execute_result"
    }
   ],
   "source": [
    "test_df.head()"
   ]
  },
  {
   "cell_type": "code",
   "execution_count": 55,
   "id": "cbed09e6-18f6-4143-9425-ae776867dea6",
   "metadata": {},
   "outputs": [
    {
     "name": "stdout",
     "output_type": "stream",
     "text": [
      "Index(['date', 'product_identifier', 'category_of_product', 'outlet', 'state',\n",
      "       'sales', 'week_id', 'sell_price', 'days_in_month', 'quarter',\n",
      "       'weekday'],\n",
      "      dtype='object')\n",
      "Index(['id', 'date', 'product_identifier', 'category_of_product', 'outlet',\n",
      "       'state', 'week_id', 'sell_price', 'days_in_month', 'quarter',\n",
      "       'weekday'],\n",
      "      dtype='object')\n"
     ]
    }
   ],
   "source": [
    "print(train_df.columns)\n",
    "print(test_df.columns)"
   ]
  },
  {
   "cell_type": "code",
   "execution_count": 56,
   "id": "2856da50-28f8-4225-bdd6-aa8ed9e7f997",
   "metadata": {},
   "outputs": [
    {
     "name": "stdout",
     "output_type": "stream",
     "text": [
      "<class 'pandas.core.frame.DataFrame'>\n",
      "RangeIndex: 395000 entries, 0 to 394999\n",
      "Data columns (total 11 columns):\n",
      " #   Column               Non-Null Count   Dtype         \n",
      "---  ------               --------------   -----         \n",
      " 0   date                 395000 non-null  datetime64[ns]\n",
      " 1   product_identifier   395000 non-null  int64         \n",
      " 2   category_of_product  395000 non-null  object        \n",
      " 3   outlet               395000 non-null  int64         \n",
      " 4   state                395000 non-null  object        \n",
      " 5   sales                395000 non-null  int64         \n",
      " 6   week_id              395000 non-null  int64         \n",
      " 7   sell_price           395000 non-null  float64       \n",
      " 8   days_in_month        395000 non-null  int32         \n",
      " 9   quarter              395000 non-null  int32         \n",
      " 10  weekday              395000 non-null  int32         \n",
      "dtypes: datetime64[ns](1), float64(1), int32(3), int64(4), object(2)\n",
      "memory usage: 28.6+ MB\n"
     ]
    }
   ],
   "source": [
    "train_df.info()"
   ]
  },
  {
   "cell_type": "code",
   "execution_count": 57,
   "id": "7c92ec5f-b5a4-4d01-bf57-cf54b296ad98",
   "metadata": {},
   "outputs": [],
   "source": [
    "# numerical and categorical features of train data\n",
    "num_feat = ['outlet', 'week_id', 'sell_price', 'days_in_month', 'quarter', 'weekday']\n",
    "cat_feat = ['category_of_product', 'state']"
   ]
  },
  {
   "cell_type": "code",
   "execution_count": 58,
   "id": "23298be4-85ff-4e76-9270-6bf4b3358c93",
   "metadata": {},
   "outputs": [
    {
     "data": {
      "text/html": [
       "<div>\n",
       "<style scoped>\n",
       "    .dataframe tbody tr th:only-of-type {\n",
       "        vertical-align: middle;\n",
       "    }\n",
       "\n",
       "    .dataframe tbody tr th {\n",
       "        vertical-align: top;\n",
       "    }\n",
       "\n",
       "    .dataframe thead th {\n",
       "        text-align: right;\n",
       "    }\n",
       "</style>\n",
       "<table border=\"1\" class=\"dataframe\">\n",
       "  <thead>\n",
       "    <tr style=\"text-align: right;\">\n",
       "      <th></th>\n",
       "      <th>category_of_product</th>\n",
       "      <th>state</th>\n",
       "    </tr>\n",
       "  </thead>\n",
       "  <tbody>\n",
       "    <tr>\n",
       "      <th>0</th>\n",
       "      <td>others</td>\n",
       "      <td>Maharashtra</td>\n",
       "    </tr>\n",
       "    <tr>\n",
       "      <th>1</th>\n",
       "      <td>others</td>\n",
       "      <td>Maharashtra</td>\n",
       "    </tr>\n",
       "    <tr>\n",
       "      <th>2</th>\n",
       "      <td>others</td>\n",
       "      <td>Maharashtra</td>\n",
       "    </tr>\n",
       "    <tr>\n",
       "      <th>3</th>\n",
       "      <td>others</td>\n",
       "      <td>Maharashtra</td>\n",
       "    </tr>\n",
       "    <tr>\n",
       "      <th>4</th>\n",
       "      <td>fast_moving_consumer_goods</td>\n",
       "      <td>Maharashtra</td>\n",
       "    </tr>\n",
       "  </tbody>\n",
       "</table>\n",
       "</div>"
      ],
      "text/plain": [
       "          category_of_product        state\n",
       "0                      others  Maharashtra\n",
       "1                      others  Maharashtra\n",
       "2                      others  Maharashtra\n",
       "3                      others  Maharashtra\n",
       "4  fast_moving_consumer_goods  Maharashtra"
      ]
     },
     "execution_count": 58,
     "metadata": {},
     "output_type": "execute_result"
    }
   ],
   "source": [
    "test_df[cat_feat].head()"
   ]
  },
  {
   "cell_type": "markdown",
   "id": "53dbf2f0-a2bf-4fe2-b5b6-f14e00fc5d2c",
   "metadata": {},
   "source": [
    "## SCALE NUMERICAL DATA"
   ]
  },
  {
   "cell_type": "code",
   "execution_count": 59,
   "id": "37b263b1-4a99-4cb9-83be-22562c7b7571",
   "metadata": {},
   "outputs": [],
   "source": [
    "sc = StandardScaler() #\n",
    "cols = num_feat\n",
    "\n",
    "X = sc.fit_transform(train_df[num_feat])\n",
    "testing = sc.transform(test_df[num_feat])\n",
    "\n",
    "X = pd.DataFrame(data=X, columns=cols)\n",
    "testing = pd.DataFrame(data=testing, columns=cols)"
   ]
  },
  {
   "cell_type": "code",
   "execution_count": 60,
   "id": "f3b0c01d-96ba-4c29-90a8-26b6f5eb8ecd",
   "metadata": {},
   "outputs": [
    {
     "data": {
      "text/html": [
       "<div>\n",
       "<style scoped>\n",
       "    .dataframe tbody tr th:only-of-type {\n",
       "        vertical-align: middle;\n",
       "    }\n",
       "\n",
       "    .dataframe tbody tr th {\n",
       "        vertical-align: top;\n",
       "    }\n",
       "\n",
       "    .dataframe thead th {\n",
       "        text-align: right;\n",
       "    }\n",
       "</style>\n",
       "<table border=\"1\" class=\"dataframe\">\n",
       "  <thead>\n",
       "    <tr style=\"text-align: right;\">\n",
       "      <th></th>\n",
       "      <th>outlet</th>\n",
       "      <th>week_id</th>\n",
       "      <th>sell_price</th>\n",
       "      <th>days_in_month</th>\n",
       "      <th>quarter</th>\n",
       "      <th>weekday</th>\n",
       "    </tr>\n",
       "  </thead>\n",
       "  <tbody>\n",
       "    <tr>\n",
       "      <th>0</th>\n",
       "      <td>-1.099152</td>\n",
       "      <td>-1.72109</td>\n",
       "      <td>-0.528501</td>\n",
       "      <td>-1.438175</td>\n",
       "      <td>-1.217657</td>\n",
       "      <td>1.501267</td>\n",
       "    </tr>\n",
       "    <tr>\n",
       "      <th>1</th>\n",
       "      <td>-1.099152</td>\n",
       "      <td>-1.72109</td>\n",
       "      <td>0.632958</td>\n",
       "      <td>-1.438175</td>\n",
       "      <td>-1.217657</td>\n",
       "      <td>1.501267</td>\n",
       "    </tr>\n",
       "    <tr>\n",
       "      <th>2</th>\n",
       "      <td>-1.099152</td>\n",
       "      <td>-1.72109</td>\n",
       "      <td>-1.036961</td>\n",
       "      <td>-1.438175</td>\n",
       "      <td>-1.217657</td>\n",
       "      <td>1.501267</td>\n",
       "    </tr>\n",
       "    <tr>\n",
       "      <th>3</th>\n",
       "      <td>-1.099152</td>\n",
       "      <td>-1.72109</td>\n",
       "      <td>-0.004554</td>\n",
       "      <td>-1.438175</td>\n",
       "      <td>-1.217657</td>\n",
       "      <td>1.501267</td>\n",
       "    </tr>\n",
       "    <tr>\n",
       "      <th>4</th>\n",
       "      <td>-1.099152</td>\n",
       "      <td>-1.72109</td>\n",
       "      <td>-0.027783</td>\n",
       "      <td>-1.438175</td>\n",
       "      <td>-1.217657</td>\n",
       "      <td>1.501267</td>\n",
       "    </tr>\n",
       "  </tbody>\n",
       "</table>\n",
       "</div>"
      ],
      "text/plain": [
       "     outlet  week_id  sell_price  days_in_month   quarter   weekday\n",
       "0 -1.099152 -1.72109   -0.528501      -1.438175 -1.217657  1.501267\n",
       "1 -1.099152 -1.72109    0.632958      -1.438175 -1.217657  1.501267\n",
       "2 -1.099152 -1.72109   -1.036961      -1.438175 -1.217657  1.501267\n",
       "3 -1.099152 -1.72109   -0.004554      -1.438175 -1.217657  1.501267\n",
       "4 -1.099152 -1.72109   -0.027783      -1.438175 -1.217657  1.501267"
      ]
     },
     "execution_count": 60,
     "metadata": {},
     "output_type": "execute_result"
    }
   ],
   "source": [
    "# checking the scaled value\n",
    "X.head()"
   ]
  },
  {
   "cell_type": "markdown",
   "id": "f32495ca-2f56-4b7b-9d9b-da99b788a62d",
   "metadata": {},
   "source": [
    "## Building Our Model"
   ]
  },
  {
   "cell_type": "code",
   "execution_count": 61,
   "id": "7d90b8ef-1590-4aa9-8ec2-3ecefbb3958e",
   "metadata": {},
   "outputs": [],
   "source": [
    "X_train, X_test, y_train, y_test = train_test_split(X, target, test_size=0.33, random_state=42)"
   ]
  },
  {
   "cell_type": "code",
   "execution_count": 62,
   "id": "e151c017-ed5a-45d0-aa2b-b9fe60c97704",
   "metadata": {},
   "outputs": [],
   "source": [
    "# classifier = LogisticRegression(random_state=16, max_iter= 1000)\n",
    "xg = xgb.XGBRegressor(objective ='reg:squarederror', colsample_bytree = 0.3, learning_rate = 0.42,\n",
    "                max_depth = 5, alpha = 10, n_estimators = 10)"
   ]
  },
  {
   "cell_type": "code",
   "execution_count": 63,
   "id": "e7e0f10c-cd8f-4418-a39f-47437963ed94",
   "metadata": {},
   "outputs": [
    {
     "data": {
      "text/html": [
       "<style>#sk-container-id-1 {\n",
       "  /* Definition of color scheme common for light and dark mode */\n",
       "  --sklearn-color-text: black;\n",
       "  --sklearn-color-line: gray;\n",
       "  /* Definition of color scheme for unfitted estimators */\n",
       "  --sklearn-color-unfitted-level-0: #fff5e6;\n",
       "  --sklearn-color-unfitted-level-1: #f6e4d2;\n",
       "  --sklearn-color-unfitted-level-2: #ffe0b3;\n",
       "  --sklearn-color-unfitted-level-3: chocolate;\n",
       "  /* Definition of color scheme for fitted estimators */\n",
       "  --sklearn-color-fitted-level-0: #f0f8ff;\n",
       "  --sklearn-color-fitted-level-1: #d4ebff;\n",
       "  --sklearn-color-fitted-level-2: #b3dbfd;\n",
       "  --sklearn-color-fitted-level-3: cornflowerblue;\n",
       "\n",
       "  /* Specific color for light theme */\n",
       "  --sklearn-color-text-on-default-background: var(--sg-text-color, var(--theme-code-foreground, var(--jp-content-font-color1, black)));\n",
       "  --sklearn-color-background: var(--sg-background-color, var(--theme-background, var(--jp-layout-color0, white)));\n",
       "  --sklearn-color-border-box: var(--sg-text-color, var(--theme-code-foreground, var(--jp-content-font-color1, black)));\n",
       "  --sklearn-color-icon: #696969;\n",
       "\n",
       "  @media (prefers-color-scheme: dark) {\n",
       "    /* Redefinition of color scheme for dark theme */\n",
       "    --sklearn-color-text-on-default-background: var(--sg-text-color, var(--theme-code-foreground, var(--jp-content-font-color1, white)));\n",
       "    --sklearn-color-background: var(--sg-background-color, var(--theme-background, var(--jp-layout-color0, #111)));\n",
       "    --sklearn-color-border-box: var(--sg-text-color, var(--theme-code-foreground, var(--jp-content-font-color1, white)));\n",
       "    --sklearn-color-icon: #878787;\n",
       "  }\n",
       "}\n",
       "\n",
       "#sk-container-id-1 {\n",
       "  color: var(--sklearn-color-text);\n",
       "}\n",
       "\n",
       "#sk-container-id-1 pre {\n",
       "  padding: 0;\n",
       "}\n",
       "\n",
       "#sk-container-id-1 input.sk-hidden--visually {\n",
       "  border: 0;\n",
       "  clip: rect(1px 1px 1px 1px);\n",
       "  clip: rect(1px, 1px, 1px, 1px);\n",
       "  height: 1px;\n",
       "  margin: -1px;\n",
       "  overflow: hidden;\n",
       "  padding: 0;\n",
       "  position: absolute;\n",
       "  width: 1px;\n",
       "}\n",
       "\n",
       "#sk-container-id-1 div.sk-dashed-wrapped {\n",
       "  border: 1px dashed var(--sklearn-color-line);\n",
       "  margin: 0 0.4em 0.5em 0.4em;\n",
       "  box-sizing: border-box;\n",
       "  padding-bottom: 0.4em;\n",
       "  background-color: var(--sklearn-color-background);\n",
       "}\n",
       "\n",
       "#sk-container-id-1 div.sk-container {\n",
       "  /* jupyter's `normalize.less` sets `[hidden] { display: none; }`\n",
       "     but bootstrap.min.css set `[hidden] { display: none !important; }`\n",
       "     so we also need the `!important` here to be able to override the\n",
       "     default hidden behavior on the sphinx rendered scikit-learn.org.\n",
       "     See: https://github.com/scikit-learn/scikit-learn/issues/21755 */\n",
       "  display: inline-block !important;\n",
       "  position: relative;\n",
       "}\n",
       "\n",
       "#sk-container-id-1 div.sk-text-repr-fallback {\n",
       "  display: none;\n",
       "}\n",
       "\n",
       "div.sk-parallel-item,\n",
       "div.sk-serial,\n",
       "div.sk-item {\n",
       "  /* draw centered vertical line to link estimators */\n",
       "  background-image: linear-gradient(var(--sklearn-color-text-on-default-background), var(--sklearn-color-text-on-default-background));\n",
       "  background-size: 2px 100%;\n",
       "  background-repeat: no-repeat;\n",
       "  background-position: center center;\n",
       "}\n",
       "\n",
       "/* Parallel-specific style estimator block */\n",
       "\n",
       "#sk-container-id-1 div.sk-parallel-item::after {\n",
       "  content: \"\";\n",
       "  width: 100%;\n",
       "  border-bottom: 2px solid var(--sklearn-color-text-on-default-background);\n",
       "  flex-grow: 1;\n",
       "}\n",
       "\n",
       "#sk-container-id-1 div.sk-parallel {\n",
       "  display: flex;\n",
       "  align-items: stretch;\n",
       "  justify-content: center;\n",
       "  background-color: var(--sklearn-color-background);\n",
       "  position: relative;\n",
       "}\n",
       "\n",
       "#sk-container-id-1 div.sk-parallel-item {\n",
       "  display: flex;\n",
       "  flex-direction: column;\n",
       "}\n",
       "\n",
       "#sk-container-id-1 div.sk-parallel-item:first-child::after {\n",
       "  align-self: flex-end;\n",
       "  width: 50%;\n",
       "}\n",
       "\n",
       "#sk-container-id-1 div.sk-parallel-item:last-child::after {\n",
       "  align-self: flex-start;\n",
       "  width: 50%;\n",
       "}\n",
       "\n",
       "#sk-container-id-1 div.sk-parallel-item:only-child::after {\n",
       "  width: 0;\n",
       "}\n",
       "\n",
       "/* Serial-specific style estimator block */\n",
       "\n",
       "#sk-container-id-1 div.sk-serial {\n",
       "  display: flex;\n",
       "  flex-direction: column;\n",
       "  align-items: center;\n",
       "  background-color: var(--sklearn-color-background);\n",
       "  padding-right: 1em;\n",
       "  padding-left: 1em;\n",
       "}\n",
       "\n",
       "\n",
       "/* Toggleable style: style used for estimator/Pipeline/ColumnTransformer box that is\n",
       "clickable and can be expanded/collapsed.\n",
       "- Pipeline and ColumnTransformer use this feature and define the default style\n",
       "- Estimators will overwrite some part of the style using the `sk-estimator` class\n",
       "*/\n",
       "\n",
       "/* Pipeline and ColumnTransformer style (default) */\n",
       "\n",
       "#sk-container-id-1 div.sk-toggleable {\n",
       "  /* Default theme specific background. It is overwritten whether we have a\n",
       "  specific estimator or a Pipeline/ColumnTransformer */\n",
       "  background-color: var(--sklearn-color-background);\n",
       "}\n",
       "\n",
       "/* Toggleable label */\n",
       "#sk-container-id-1 label.sk-toggleable__label {\n",
       "  cursor: pointer;\n",
       "  display: block;\n",
       "  width: 100%;\n",
       "  margin-bottom: 0;\n",
       "  padding: 0.5em;\n",
       "  box-sizing: border-box;\n",
       "  text-align: center;\n",
       "}\n",
       "\n",
       "#sk-container-id-1 label.sk-toggleable__label-arrow:before {\n",
       "  /* Arrow on the left of the label */\n",
       "  content: \"▸\";\n",
       "  float: left;\n",
       "  margin-right: 0.25em;\n",
       "  color: var(--sklearn-color-icon);\n",
       "}\n",
       "\n",
       "#sk-container-id-1 label.sk-toggleable__label-arrow:hover:before {\n",
       "  color: var(--sklearn-color-text);\n",
       "}\n",
       "\n",
       "/* Toggleable content - dropdown */\n",
       "\n",
       "#sk-container-id-1 div.sk-toggleable__content {\n",
       "  max-height: 0;\n",
       "  max-width: 0;\n",
       "  overflow: hidden;\n",
       "  text-align: left;\n",
       "  /* unfitted */\n",
       "  background-color: var(--sklearn-color-unfitted-level-0);\n",
       "}\n",
       "\n",
       "#sk-container-id-1 div.sk-toggleable__content.fitted {\n",
       "  /* fitted */\n",
       "  background-color: var(--sklearn-color-fitted-level-0);\n",
       "}\n",
       "\n",
       "#sk-container-id-1 div.sk-toggleable__content pre {\n",
       "  margin: 0.2em;\n",
       "  border-radius: 0.25em;\n",
       "  color: var(--sklearn-color-text);\n",
       "  /* unfitted */\n",
       "  background-color: var(--sklearn-color-unfitted-level-0);\n",
       "}\n",
       "\n",
       "#sk-container-id-1 div.sk-toggleable__content.fitted pre {\n",
       "  /* unfitted */\n",
       "  background-color: var(--sklearn-color-fitted-level-0);\n",
       "}\n",
       "\n",
       "#sk-container-id-1 input.sk-toggleable__control:checked~div.sk-toggleable__content {\n",
       "  /* Expand drop-down */\n",
       "  max-height: 200px;\n",
       "  max-width: 100%;\n",
       "  overflow: auto;\n",
       "}\n",
       "\n",
       "#sk-container-id-1 input.sk-toggleable__control:checked~label.sk-toggleable__label-arrow:before {\n",
       "  content: \"▾\";\n",
       "}\n",
       "\n",
       "/* Pipeline/ColumnTransformer-specific style */\n",
       "\n",
       "#sk-container-id-1 div.sk-label input.sk-toggleable__control:checked~label.sk-toggleable__label {\n",
       "  color: var(--sklearn-color-text);\n",
       "  background-color: var(--sklearn-color-unfitted-level-2);\n",
       "}\n",
       "\n",
       "#sk-container-id-1 div.sk-label.fitted input.sk-toggleable__control:checked~label.sk-toggleable__label {\n",
       "  background-color: var(--sklearn-color-fitted-level-2);\n",
       "}\n",
       "\n",
       "/* Estimator-specific style */\n",
       "\n",
       "/* Colorize estimator box */\n",
       "#sk-container-id-1 div.sk-estimator input.sk-toggleable__control:checked~label.sk-toggleable__label {\n",
       "  /* unfitted */\n",
       "  background-color: var(--sklearn-color-unfitted-level-2);\n",
       "}\n",
       "\n",
       "#sk-container-id-1 div.sk-estimator.fitted input.sk-toggleable__control:checked~label.sk-toggleable__label {\n",
       "  /* fitted */\n",
       "  background-color: var(--sklearn-color-fitted-level-2);\n",
       "}\n",
       "\n",
       "#sk-container-id-1 div.sk-label label.sk-toggleable__label,\n",
       "#sk-container-id-1 div.sk-label label {\n",
       "  /* The background is the default theme color */\n",
       "  color: var(--sklearn-color-text-on-default-background);\n",
       "}\n",
       "\n",
       "/* On hover, darken the color of the background */\n",
       "#sk-container-id-1 div.sk-label:hover label.sk-toggleable__label {\n",
       "  color: var(--sklearn-color-text);\n",
       "  background-color: var(--sklearn-color-unfitted-level-2);\n",
       "}\n",
       "\n",
       "/* Label box, darken color on hover, fitted */\n",
       "#sk-container-id-1 div.sk-label.fitted:hover label.sk-toggleable__label.fitted {\n",
       "  color: var(--sklearn-color-text);\n",
       "  background-color: var(--sklearn-color-fitted-level-2);\n",
       "}\n",
       "\n",
       "/* Estimator label */\n",
       "\n",
       "#sk-container-id-1 div.sk-label label {\n",
       "  font-family: monospace;\n",
       "  font-weight: bold;\n",
       "  display: inline-block;\n",
       "  line-height: 1.2em;\n",
       "}\n",
       "\n",
       "#sk-container-id-1 div.sk-label-container {\n",
       "  text-align: center;\n",
       "}\n",
       "\n",
       "/* Estimator-specific */\n",
       "#sk-container-id-1 div.sk-estimator {\n",
       "  font-family: monospace;\n",
       "  border: 1px dotted var(--sklearn-color-border-box);\n",
       "  border-radius: 0.25em;\n",
       "  box-sizing: border-box;\n",
       "  margin-bottom: 0.5em;\n",
       "  /* unfitted */\n",
       "  background-color: var(--sklearn-color-unfitted-level-0);\n",
       "}\n",
       "\n",
       "#sk-container-id-1 div.sk-estimator.fitted {\n",
       "  /* fitted */\n",
       "  background-color: var(--sklearn-color-fitted-level-0);\n",
       "}\n",
       "\n",
       "/* on hover */\n",
       "#sk-container-id-1 div.sk-estimator:hover {\n",
       "  /* unfitted */\n",
       "  background-color: var(--sklearn-color-unfitted-level-2);\n",
       "}\n",
       "\n",
       "#sk-container-id-1 div.sk-estimator.fitted:hover {\n",
       "  /* fitted */\n",
       "  background-color: var(--sklearn-color-fitted-level-2);\n",
       "}\n",
       "\n",
       "/* Specification for estimator info (e.g. \"i\" and \"?\") */\n",
       "\n",
       "/* Common style for \"i\" and \"?\" */\n",
       "\n",
       ".sk-estimator-doc-link,\n",
       "a:link.sk-estimator-doc-link,\n",
       "a:visited.sk-estimator-doc-link {\n",
       "  float: right;\n",
       "  font-size: smaller;\n",
       "  line-height: 1em;\n",
       "  font-family: monospace;\n",
       "  background-color: var(--sklearn-color-background);\n",
       "  border-radius: 1em;\n",
       "  height: 1em;\n",
       "  width: 1em;\n",
       "  text-decoration: none !important;\n",
       "  margin-left: 1ex;\n",
       "  /* unfitted */\n",
       "  border: var(--sklearn-color-unfitted-level-1) 1pt solid;\n",
       "  color: var(--sklearn-color-unfitted-level-1);\n",
       "}\n",
       "\n",
       ".sk-estimator-doc-link.fitted,\n",
       "a:link.sk-estimator-doc-link.fitted,\n",
       "a:visited.sk-estimator-doc-link.fitted {\n",
       "  /* fitted */\n",
       "  border: var(--sklearn-color-fitted-level-1) 1pt solid;\n",
       "  color: var(--sklearn-color-fitted-level-1);\n",
       "}\n",
       "\n",
       "/* On hover */\n",
       "div.sk-estimator:hover .sk-estimator-doc-link:hover,\n",
       ".sk-estimator-doc-link:hover,\n",
       "div.sk-label-container:hover .sk-estimator-doc-link:hover,\n",
       ".sk-estimator-doc-link:hover {\n",
       "  /* unfitted */\n",
       "  background-color: var(--sklearn-color-unfitted-level-3);\n",
       "  color: var(--sklearn-color-background);\n",
       "  text-decoration: none;\n",
       "}\n",
       "\n",
       "div.sk-estimator.fitted:hover .sk-estimator-doc-link.fitted:hover,\n",
       ".sk-estimator-doc-link.fitted:hover,\n",
       "div.sk-label-container:hover .sk-estimator-doc-link.fitted:hover,\n",
       ".sk-estimator-doc-link.fitted:hover {\n",
       "  /* fitted */\n",
       "  background-color: var(--sklearn-color-fitted-level-3);\n",
       "  color: var(--sklearn-color-background);\n",
       "  text-decoration: none;\n",
       "}\n",
       "\n",
       "/* Span, style for the box shown on hovering the info icon */\n",
       ".sk-estimator-doc-link span {\n",
       "  display: none;\n",
       "  z-index: 9999;\n",
       "  position: relative;\n",
       "  font-weight: normal;\n",
       "  right: .2ex;\n",
       "  padding: .5ex;\n",
       "  margin: .5ex;\n",
       "  width: min-content;\n",
       "  min-width: 20ex;\n",
       "  max-width: 50ex;\n",
       "  color: var(--sklearn-color-text);\n",
       "  box-shadow: 2pt 2pt 4pt #999;\n",
       "  /* unfitted */\n",
       "  background: var(--sklearn-color-unfitted-level-0);\n",
       "  border: .5pt solid var(--sklearn-color-unfitted-level-3);\n",
       "}\n",
       "\n",
       ".sk-estimator-doc-link.fitted span {\n",
       "  /* fitted */\n",
       "  background: var(--sklearn-color-fitted-level-0);\n",
       "  border: var(--sklearn-color-fitted-level-3);\n",
       "}\n",
       "\n",
       ".sk-estimator-doc-link:hover span {\n",
       "  display: block;\n",
       "}\n",
       "\n",
       "/* \"?\"-specific style due to the `<a>` HTML tag */\n",
       "\n",
       "#sk-container-id-1 a.estimator_doc_link {\n",
       "  float: right;\n",
       "  font-size: 1rem;\n",
       "  line-height: 1em;\n",
       "  font-family: monospace;\n",
       "  background-color: var(--sklearn-color-background);\n",
       "  border-radius: 1rem;\n",
       "  height: 1rem;\n",
       "  width: 1rem;\n",
       "  text-decoration: none;\n",
       "  /* unfitted */\n",
       "  color: var(--sklearn-color-unfitted-level-1);\n",
       "  border: var(--sklearn-color-unfitted-level-1) 1pt solid;\n",
       "}\n",
       "\n",
       "#sk-container-id-1 a.estimator_doc_link.fitted {\n",
       "  /* fitted */\n",
       "  border: var(--sklearn-color-fitted-level-1) 1pt solid;\n",
       "  color: var(--sklearn-color-fitted-level-1);\n",
       "}\n",
       "\n",
       "/* On hover */\n",
       "#sk-container-id-1 a.estimator_doc_link:hover {\n",
       "  /* unfitted */\n",
       "  background-color: var(--sklearn-color-unfitted-level-3);\n",
       "  color: var(--sklearn-color-background);\n",
       "  text-decoration: none;\n",
       "}\n",
       "\n",
       "#sk-container-id-1 a.estimator_doc_link.fitted:hover {\n",
       "  /* fitted */\n",
       "  background-color: var(--sklearn-color-fitted-level-3);\n",
       "}\n",
       "</style><div id=\"sk-container-id-1\" class=\"sk-top-container\"><div class=\"sk-text-repr-fallback\"><pre>XGBRegressor(alpha=10, base_score=None, booster=None, callbacks=None,\n",
       "             colsample_bylevel=None, colsample_bynode=None,\n",
       "             colsample_bytree=0.3, device=None, early_stopping_rounds=None,\n",
       "             enable_categorical=False, eval_metric=None, feature_types=None,\n",
       "             gamma=None, grow_policy=None, importance_type=None,\n",
       "             interaction_constraints=None, learning_rate=0.42, max_bin=None,\n",
       "             max_cat_threshold=None, max_cat_to_onehot=None,\n",
       "             max_delta_step=None, max_depth=5, max_leaves=None,\n",
       "             min_child_weight=None, missing=nan, monotone_constraints=None,\n",
       "             multi_strategy=None, n_estimators=10, n_jobs=None,\n",
       "             num_parallel_tree=None, ...)</pre><b>In a Jupyter environment, please rerun this cell to show the HTML representation or trust the notebook. <br />On GitHub, the HTML representation is unable to render, please try loading this page with nbviewer.org.</b></div><div class=\"sk-container\" hidden><div class=\"sk-item\"><div class=\"sk-estimator fitted sk-toggleable\"><input class=\"sk-toggleable__control sk-hidden--visually\" id=\"sk-estimator-id-1\" type=\"checkbox\" checked><label for=\"sk-estimator-id-1\" class=\"sk-toggleable__label fitted sk-toggleable__label-arrow fitted\">&nbsp;XGBRegressor<span class=\"sk-estimator-doc-link fitted\">i<span>Fitted</span></span></label><div class=\"sk-toggleable__content fitted\"><pre>XGBRegressor(alpha=10, base_score=None, booster=None, callbacks=None,\n",
       "             colsample_bylevel=None, colsample_bynode=None,\n",
       "             colsample_bytree=0.3, device=None, early_stopping_rounds=None,\n",
       "             enable_categorical=False, eval_metric=None, feature_types=None,\n",
       "             gamma=None, grow_policy=None, importance_type=None,\n",
       "             interaction_constraints=None, learning_rate=0.42, max_bin=None,\n",
       "             max_cat_threshold=None, max_cat_to_onehot=None,\n",
       "             max_delta_step=None, max_depth=5, max_leaves=None,\n",
       "             min_child_weight=None, missing=nan, monotone_constraints=None,\n",
       "             multi_strategy=None, n_estimators=10, n_jobs=None,\n",
       "             num_parallel_tree=None, ...)</pre></div> </div></div></div></div>"
      ],
      "text/plain": [
       "XGBRegressor(alpha=10, base_score=None, booster=None, callbacks=None,\n",
       "             colsample_bylevel=None, colsample_bynode=None,\n",
       "             colsample_bytree=0.3, device=None, early_stopping_rounds=None,\n",
       "             enable_categorical=False, eval_metric=None, feature_types=None,\n",
       "             gamma=None, grow_policy=None, importance_type=None,\n",
       "             interaction_constraints=None, learning_rate=0.42, max_bin=None,\n",
       "             max_cat_threshold=None, max_cat_to_onehot=None,\n",
       "             max_delta_step=None, max_depth=5, max_leaves=None,\n",
       "             min_child_weight=None, missing=nan, monotone_constraints=None,\n",
       "             multi_strategy=None, n_estimators=10, n_jobs=None,\n",
       "             num_parallel_tree=None, ...)"
      ]
     },
     "execution_count": 63,
     "metadata": {},
     "output_type": "execute_result"
    }
   ],
   "source": [
    "xg.fit(X_train, y_train)"
   ]
  },
  {
   "cell_type": "code",
   "execution_count": 64,
   "id": "69084554-fb44-4df8-9d98-0eac6c921a84",
   "metadata": {},
   "outputs": [],
   "source": [
    "pred_train = xg.predict(X_train)\n",
    "pred_test = xg.predict(X_test)"
   ]
  },
  {
   "cell_type": "code",
   "execution_count": 65,
   "id": "442d40d3-2a2d-42a9-bb32-fe6e3a22b9fa",
   "metadata": {},
   "outputs": [],
   "source": [
    "RMSE_test = np.sqrt(mean_squared_error(y_test, pred_test))\n",
    "RMSE_train = np.sqrt(mean_squared_error(y_train, pred_train))"
   ]
  },
  {
   "cell_type": "code",
   "execution_count": 66,
   "id": "09982900-37e2-4ce5-9d40-0d1725002001",
   "metadata": {},
   "outputs": [
    {
     "name": "stdout",
     "output_type": "stream",
     "text": [
      "Train set Evaluation\n",
      "The classifier RMSE score 3.254313923834089\n",
      "\n",
      "Test set Evaluation\n",
      "The classifier RMSE score 3.297453823809909\n"
     ]
    }
   ],
   "source": [
    "print('Train set Evaluation')\n",
    "print('The classifier RMSE score {}\\n'.format(RMSE_train)) \n",
    "\n",
    "print('Test set Evaluation')\n",
    "print('The classifier RMSE score {}'.format(RMSE_test))"
   ]
  },
  {
   "cell_type": "code",
   "execution_count": 67,
   "id": "972281b7-a41e-4b9f-a1e0-a7cc1fc1db91",
   "metadata": {},
   "outputs": [],
   "source": [
    "# submission_file = sample_submission.copy()"
   ]
  },
  {
   "cell_type": "code",
   "execution_count": 68,
   "id": "af47409f-d75f-4a10-aa42-458e2f8f6096",
   "metadata": {},
   "outputs": [],
   "source": [
    "# submission_file.sales = xg.predict(testing)"
   ]
  },
  {
   "cell_type": "code",
   "execution_count": 69,
   "id": "cf6110d2-6086-440e-a68d-df298e6419b0",
   "metadata": {},
   "outputs": [],
   "source": [
    "# submission_file.head()"
   ]
  },
  {
   "cell_type": "code",
   "execution_count": null,
   "id": "6b432a73-f25c-49be-bacd-ec279da0772a",
   "metadata": {},
   "outputs": [],
   "source": []
  }
 ],
 "metadata": {
  "kernelspec": {
   "display_name": "Python 3 (ipykernel)",
   "language": "python",
   "name": "python3"
  },
  "language_info": {
   "codemirror_mode": {
    "name": "ipython",
    "version": 3
   },
   "file_extension": ".py",
   "mimetype": "text/x-python",
   "name": "python",
   "nbconvert_exporter": "python",
   "pygments_lexer": "ipython3",
   "version": "3.12.3"
  }
 },
 "nbformat": 4,
 "nbformat_minor": 5
}
